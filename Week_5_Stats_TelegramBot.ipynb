{
  "nbformat": 4,
  "nbformat_minor": 0,
  "metadata": {
    "colab": {
      "provenance": [],
      "authorship_tag": "ABX9TyOxs8G4bmtP1JBN0ukHTQWy",
      "include_colab_link": true
    },
    "kernelspec": {
      "name": "python3",
      "display_name": "Python 3"
    },
    "language_info": {
      "name": "python"
    }
  },
  "cells": [
    {
      "cell_type": "markdown",
      "metadata": {
        "id": "view-in-github",
        "colab_type": "text"
      },
      "source": [
        "<a href=\"https://colab.research.google.com/github/AvinashShrivastav/TelegramBot-iitm/blob/Code-Formatted/Week_5_Stats_TelegramBot.ipynb\" target=\"_parent\"><img src=\"https://colab.research.google.com/assets/colab-badge.svg\" alt=\"Open In Colab\"/></a>"
      ]
    },
    {
      "cell_type": "code",
      "source": [
        "!sudo apt install tesseract-ocr\n",
        "!pip install pytesseract\n"
      ],
      "metadata": {
        "id": "NOyyKPFc729U"
      },
      "execution_count": null,
      "outputs": []
    },
    {
      "cell_type": "code",
      "source": [
        "pip install emoji"
      ],
      "metadata": {
        "id": "KAVj5h8gdsH0"
      },
      "execution_count": null,
      "outputs": []
    },
    {
      "cell_type": "code",
      "source": [
        "import pytesseract\n",
        "\n",
        "import shutil\n",
        "\n",
        "import os\n",
        "\n",
        "import random\n",
        "import re\n",
        "import math\n",
        "import emoji\n",
        "import sympy as sy\n",
        "from sympy import factorial, symbols,solve,Eq\n",
        "try:\n",
        "\n",
        "  from PIL import Image\n",
        "\n",
        "except ImportError:\n",
        "  import Image\n",
        "from PIL import Image"
      ],
      "metadata": {
        "id": "qV2H_Ew8EYSb"
      },
      "execution_count": null,
      "outputs": []
    },
    {
      "cell_type": "markdown",
      "source": [
        "Codes for questions"
      ],
      "metadata": {
        "id": "IT1LpdJwRiWF"
      }
    },
    {
      "cell_type": "code",
      "source": [
        "\n",
        "def Q1(textofimage):\n",
        "  \n",
        "  val = re.findall('(\\d+)[^,.\\d\\n]+?(?=registers|cover)',textofimage)\n",
        "  try:\n",
        "    ques = 'Vinod has '+ str(val[0]) + ' registers and '+ str(val[1]) + ' cover papers of different colours. In how many ways can he cover all the registers with cover papers?'\n",
        "    ans = (math.factorial(int(val[1]))/(math.factorial(int(val[0]))*math.factorial(int(val[1])-int(val[0]))))*math.factorial(int(val[0]))\n",
        "    ans = round(ans)\n",
        "  except:\n",
        "    ques = emoji.emojize(\":zipper-mouth_face:\")\n",
        "    ans = \"Sorry! There was some issue while handling your file. Please try again with a different image or send #matchQ1 to get the question in text format. Surely, I would handle that.\"\n",
        "\n",
        "  return ques +'\\n\\nAnswer : '+ str(ans) +'\\nIf you think I have made any error in reading your just send #matchQ1 to get format of question in text'\n",
        "\n",
        "Q1('Vinod has 5 registers and 8 cover papers of different colours. In how many ways can he cover all the registers with cover papers?')\n"
      ],
      "metadata": {
        "id": "5alVpaRqRhQJ"
      },
      "execution_count": null,
      "outputs": []
    },
    {
      "cell_type": "code",
      "source": [
        "def Q11(textofimage):\n",
        "  \n",
        "  ques = 'Vinod has 5 registers and 8 cover papers of different colours. In how many ways can he cover all the registers with cover papers?'\n",
        "  ans = \"Please copy the message as it is and just replace the values according to your question #solveQ1 \"\n",
        "\n",
        "  return ques +'  \\n\\n'+ str(ans)"
      ],
      "metadata": {
        "id": "ugCiNoXGCcr1"
      },
      "execution_count": null,
      "outputs": []
    },
    {
      "cell_type": "code",
      "source": [
        "def Q2(textofimage):\n",
        "  val = re.findall('(\\d+)[^,.\\d\\n]+?(?=classmates)',textofimage)\n",
        "  try:\n",
        "    ques = str(val[0]) + ' classmates could not agree on who would stand in the group photo along with the teacher for the yearbook. How many possible groups can be made such that there is at least one student with the teacher in the photo?'\n",
        "    ans = pow(2,int(val[0])) - 1\n",
        "  except:\n",
        "    ques = emoji.emojize(\":zipper-mouth_face:\")\n",
        "    ans = \"Sorry! There was some issue while handling your file. Please try again with a different image or send #matchQ2 to get the question in text format. Surely, I would handle that.\"\n",
        "\n",
        "  return ques +'\\n\\nAnswer : '+ str(ans)+'\\nIf you think I have made any error in reading your just send #matchQ2 to get format of question in text'\n"
      ],
      "metadata": {
        "id": "fgsoPiFeXUUh"
      },
      "execution_count": null,
      "outputs": []
    },
    {
      "cell_type": "code",
      "source": [
        "def Q21(textofimage):\n",
        "  \n",
        "  ques = '6 classmates could not agree on who would stand in the group photo along with the teacher for the yearbook. How many possible groups can be made such that there is at least one student with the teacher in the photo?'\n",
        "  ans = \"Please copy the message as it is and just replace the values according to your question #solveQ2 \"\n",
        "\n",
        "  return ques +'  \\n\\n'+ str(ans)"
      ],
      "metadata": {
        "id": "865aIqkEC5Rq"
      },
      "execution_count": null,
      "outputs": []
    },
    {
      "cell_type": "code",
      "source": [
        "def Q3(textofimage):\n",
        "  \n",
        "  try:\n",
        "    val = re.findall('(\\d+)[^,.\\d\\n]+?(?=alphabets|numbers)',textofimage)\n",
        "    ques = 'Jay bought a new car in New York where a license plate can be created with alphabets A, B, C, D, E, W, X, Y, Z and numbers 0 to 9. He can either select a normal license plate or a VIP license plate. The VIP license plate begins with ' +str(val[0])+' alphabets followed by ' +str(val[1])+' numbers with repetition allowed. The normal license plate begins with ' +str(val[2])+' numbers followed by ' +str(val[3])+' alphabets without repetition.In how many ways can he select VIP license plate?'\n",
        "    ans =  pow(9,int(val[0]))*pow(10,int(val[1]))\n",
        "  except:\n",
        "    ques = emoji.emojize(\":zipper-mouth_face:\")\n",
        "    ans = \"Sorry! There was some issue while handling your file. Please try again with a different image or send #matchQ3 to get the question in text format. Surely, I would handle that. \\nPreferred image: set of allowed alphabets should be in a line.\"\n",
        "\n",
        "  return  ques + '\\n\\nAnswer : '+ str(ans)+'\\nIf you think I have made any error in reading your just send #matchQ3 to get format of question in text'\n",
        "\n",
        "\n",
        "q='''Jay bought a new car in New York where a license plate can be created with alphabets A, B, C, D, E, W, X, Y, Z and numbers 0 to 9. He can either select a normal license plate or a VIP license plate. The VIP license plate begins with 2 alphabets followed by 4 numbers with repetition allowed. The normal license plate begins with 2 numbers followed by 3 alphabets without repetition.In how many ways can he select VIP license plate?'''\n",
        "Q3(q)"
      ],
      "metadata": {
        "id": "6iO-2nopjVd3"
      },
      "execution_count": null,
      "outputs": []
    },
    {
      "cell_type": "code",
      "source": [
        "def Q31(textofimage):\n",
        "  \n",
        "  ques = 'Jay bought a new car in New York where a license plate can be created with alphabets A, B, C, D, E, W, X, Y, Z and numbers 0 to 9. He can either select a normal license plate or a VIP license plate. The VIP license plate begins with 1 alphabets followed by 2 numbers with repetition allowed. The normal license plate begins with 1 numbers followed by 2 alphabets without repetition.In how many ways can he select VIP license plate?'\n",
        "  ans = \"Please copy the message as it is and just replace the values according to your question #solveQ3 \"\n",
        "\n",
        "  return ques +'  \\n\\n'+ str(ans)"
      ],
      "metadata": {
        "id": "PEX4FxF-DmWg"
      },
      "execution_count": null,
      "outputs": []
    },
    {
      "cell_type": "code",
      "source": [
        "def Q4(textofimage):\n",
        "  \n",
        "  try:\n",
        "    val = re.findall('(\\d+)[^,.\\d\\n]+?(?=alphabets|numbers)',textofimage)\n",
        "    ques = 'Jay bought a new car in New York where a license plate can be created with alphabets A, B, C, D, E, W, X, Y, Z and numbers 0 to 9. He can either select a normal license plate or a VIP license plate. The VIP license plate begins with ' +str(val[0])+' alphabets followed by ' +str(val[1])+' numbers with repetition allowed. The normal license plate begins with ' +str(val[2])+' numbers followed by ' +str(val[3])+' alphabets without repetition.In how many ways can he select VIP license plate?'\n",
        "    ans1 =  pow(9,int(val[0]))*pow(10,int(val[1]))\n",
        "    ans2 = (factorial(10)*factorial(9))/((factorial(10-int(val[2]))*factorial(9-int(val[3]))))\n",
        "  # ans2= ((factorial(10)*factorial(int(val[3])))/(factorial(int(val[3]))*factorial(10-int(val[3]))))*((factorial(n1)*factorial(int(val[4])))/(factorial(int(val[4]))*factorial(n1-int(val[4]))))\n",
        "    ans = str(ans1+ans2) + \"\\nNote: we have considered that the first digit of a number plate may be 0. \"\n",
        "  except:\n",
        "    ques = emoji.emojize(\":zipper-mouth_face:\")\n",
        "    ans = \"Sorry! There was some issue while handling your file. Please try again with a different image or send #matchQ4 to get the question in text format. Surely, I would handle that. \\nPreferred image: set of allowed alphabets should be in a line.\"\n",
        "\n",
        "  return  ques + '\\n\\nAnswer : '+ str(ans)+'\\nIf you think I have made any error in reading your just send #matchQ4 to get format of question in text'\n",
        "\n",
        "\n",
        "q='''Jay bought a new car in New York where a license plate can be created with alphabets A, B, C, D, E, W, X, Y, Z and numbers 0 to 9. He can either select a normal license plate or a VIP license plate. The VIP license plate begins with 2 alphabets followed by 4 numbers with repetition allowed. The normal license plate begins with 2 numbers followed by 3 alphabets without repetition.In how many ways can he select VIP license plate?'''\n",
        "Q4(q)"
      ],
      "metadata": {
        "id": "7dyccUVbjlGc"
      },
      "execution_count": null,
      "outputs": []
    },
    {
      "cell_type": "code",
      "source": [
        "def Q41(textofimage):\n",
        "  \n",
        "  ques = 'Jay bought a new car in New York where a license plate can be created with alphabets A, B, C, D, E, W, X, Y, Z and numbers 0 to 9. He can either select a normal license plate or a VIP license plate. The VIP license plate begins with 1 alphabets followed by 2 numbers with repetition allowed. The normal license plate begins with 1 numbers followed by 2 alphabets without repetition.In how many ways can he select VIP license plate?'\n",
        "  ans = \"Please copy the message as it is and just replace the values according to your question #solveQ4 \"\n",
        "\n",
        "  return ques +'  \\n\\n'+ str(ans)"
      ],
      "metadata": {
        "id": "zkpFehBAEEVt"
      },
      "execution_count": null,
      "outputs": []
    },
    {
      "cell_type": "code",
      "source": [
        "def Q5(textofimage):\n",
        "  import sympy\n",
        "  val2 = re.findall('(\\d+)[^,.\\d\\n]+?(?=times)',textofimage)\n",
        "  val1 = re.findall(\"by\\s*(-?\\d+(?:\\.\\d+)?)\",textofimage)\n",
        " \n",
        "  try:\n",
        "    val = [val1[0],val2[0]]\n",
        "    n = symbols('n')\n",
        "    lhs= n*(n-1)*int(val[1])\n",
        "    rhs = (n+int(val[0]))*(n+int(val[0])-1)\n",
        "    ans1 = solve(Eq(lhs,rhs))\n",
        "    for i in ans1:\n",
        "      if i>0:\n",
        "        ans=i\n",
        "      else :\n",
        "        ans = \"Calculation Failed!\"\n",
        "\n",
        "    ques = 'Ram has n trophies that he wishes to place in his main cabinet, which has space only for two trophies. If the number of trophies is increased by '+ str(val[0])+ ', then the number of possible ways to arrange the trophies in the main cabinet becomes '+str(val[1])+' times the number of ways to arrange n trophies. How many trophies does Ram have?'\n",
        "  except:\n",
        "    ques = emoji.emojize(\":zipper-mouth_face:\")\n",
        "    ans = \"Sorry! There was some issue while handling your file. Please try again with a different image or send #matchQ5 to get the question in text format. Surely, I would handle that.\"\n",
        "\n",
        "  return ques +'\\n\\nAnswer : '+ str(ans) +'\\nIf you think I have made any error in reading your just send #matchQ5 to get format of question in text'\n",
        "Q5('5) Ram has n trophies that he wishes to place in his main cabinet, which has space only for two trophies. If the number of trophies is increased by 3, then the number of possible ways to arrange the trophies in the main cabinet becomes 5 times the number of ways to arrange n trophies. How many trophies does Ram have?')\n",
        "\n"
      ],
      "metadata": {
        "id": "dNA17-wPjm5Y"
      },
      "execution_count": null,
      "outputs": []
    },
    {
      "cell_type": "code",
      "source": [
        "def Q51(textofimage):\n",
        "  \n",
        "  ques = 'Ram has n trophies that he wishes to place in his main cabinet, which has space only for two trophies. If the number of trophies is increased by 3, then the number of possible ways to arrange the trophies in the main cabinet becomes 5 times the number of ways to arrange n trophies. How many trophies does Ram have?'\n",
        "  ans = \"Please copy the message as it is and just replace the values according to your question #solveQ5 \"\n",
        "\n",
        "  return ques +'  \\n\\n'+ str(ans)"
      ],
      "metadata": {
        "id": "mkU-6dxjEeMm"
      },
      "execution_count": null,
      "outputs": []
    },
    {
      "cell_type": "code",
      "source": [
        "def Q52(textofimage):\n",
        "  import sympy\n",
        "  val = re.findall(\"[2-9]\",textofimage)\n",
        "  try:\n",
        "    # val=[3,5]\n",
        "    n = symbols('n')\n",
        "    lhs= n*(n-1)*int(val[1])\n",
        "    rhs = (n+int(val[0]))*(n+int(val[0])-1)\n",
        "    ans1 = solve(Eq(lhs,rhs))\n",
        "    for i in ans1:\n",
        "      if i>0:\n",
        "        ans=i\n",
        "      else :\n",
        "        ans = \"Calculation Failed!\"\n",
        "\n",
        "    ques = 'Ram has n trophies that he wishes to place in his main cabinet, which has space only for two trophies. If the number of trophies is increased by '+ str(val[0])+ ', then the number of possible ways to arrange the trophies in the main cabinet becomes '+str(val[1])+' times the number of ways to arrange n trophies. How many trophies does Ram have?'\n",
        "  except:\n",
        "    ques = emoji.emojize(\":zipper-mouth_face:\")\n",
        "    ans = \"Sorry! There was some issue while handling your file. Please try again\"\n",
        "\n",
        "  return ques +'\\n\\nAnswer : '+ str(ans)\n",
        "Q52('Ram has n trophies that he wishes to place in his main cabinet, which has space only for two trophies. If the number of trophies is increased by 3, then the number of possible ways to arrange the trophies in the main cabinet becomes 5 times the number of ways to arrange n trophies. How many trophies does Ram have?')\n",
        "\n"
      ],
      "metadata": {
        "id": "MI4EeT6OHunk"
      },
      "execution_count": null,
      "outputs": []
    },
    {
      "cell_type": "code",
      "source": [
        "def Q6(textofimage):\n",
        "  val1 = re.findall('(\\d+)[^,.\\d\\n]+?(?=students)',textofimage)\n",
        "  val2 = re.findall(\"first\\s*(-?\\d+(?:\\.\\d+)?)\",textofimage)\n",
        "  \n",
        "  try:\n",
        "    val = [val1[0],val2[0]]\n",
        "    ques = 'There are '+str(val[0])+' students in a class. The class teacher announced that the first  '+str(val[1])+' students who completes a given project within two days will be awarded. What are the possible number of ways the students will be awarded?'\n",
        "    ans = (factorial(int(val[0])))/(factorial(int(val[1]))*factorial(int(val[0])-int(val[1])))\n",
        "    text = str(val[0])+'!/('+str((int(val[0])-int(val[1])))+'! x '+str(val[1])+'!)'\n",
        "  except:\n",
        "    ques = emoji.emojize(\":zipper-mouth_face:\")\n",
        "    ans = \"Sorry! There was some issue while handling your file. Please try again with a different image or send #matchQ6 to get the question in text format. Surely, I would handle that.\"\n",
        "    text = ''\n",
        "  return ques +'\\n\\nAnswer : '+ text + '='+ str(ans)+'\\nIf you think I have made any error in reading your just send #matchQ6 to get format of question in text'\n",
        "Q6('There are 40 students in a class. The class teacher announced that the first  5 students who completes a given project within two days will be awarded. What are the possible number of ways the students will be awarded?')"
      ],
      "metadata": {
        "id": "vJUSu7Iejokc",
        "colab": {
          "base_uri": "https://localhost:8080/",
          "height": 72
        },
        "outputId": "d1c65ed0-1793-4bc7-a53c-8f8348e7dd36"
      },
      "execution_count": null,
      "outputs": [
        {
          "output_type": "execute_result",
          "data": {
            "text/plain": [
              "'There are 40 students in a class. The class teacher announced that the first  5 students who completes a given project within two days will be awarded. What are the possible number of ways the students will be awarded?\\n\\nAnswer : 40!/(35! x 5!)=658008\\nIf you think I have made any error in reading your just send #matchQ6 to get format of question in text'"
            ],
            "application/vnd.google.colaboratory.intrinsic+json": {
              "type": "string"
            }
          },
          "metadata": {},
          "execution_count": 15
        }
      ]
    },
    {
      "cell_type": "code",
      "source": [
        "def Q61(textofimage):\n",
        "  \n",
        "  ques = 'There are 30 students in a class. The class teacher announced that the first  4 students who completes a given project within two days will be awarded. What are the possible number of ways the students will be awarded?'\n",
        "  ans = \"Please copy the message as it is and replace the values according to your question and send #solveQ6 \"\n",
        "\n",
        "  return ques +'  \\n\\n'+ str(ans)"
      ],
      "metadata": {
        "id": "UCnvNr_sE6vY"
      },
      "execution_count": null,
      "outputs": []
    },
    {
      "cell_type": "code",
      "source": [
        "def Q7(textofimage):\n",
        "  val = re.findall('(\\d+)[^,.\\d\\n]+?(?=students)',textofimage)\n",
        "  try:\n",
        "    ques = val[0]+' students watched a patriotic movie. An analyst wishes to ask each student whether they liked the movie or not. Each student can either answer the question or refuse to respond. In how many ways, can the analyst get responses from the students?'\n",
        "    ans = pow(3,int(val[0]))\n",
        "  except:\n",
        "    ques = emoji.emojize(\":zipper-mouth_face:\")\n",
        "    ans = \"Sorry! There was some issue while handling your file. Please try again with a different image or send #matchQ7 to get the question in text format. Surely, I would handle that.\"\n",
        "\n",
        "  return ques +' Answer : '+ str(ans)+'\\nIf you think I have made any error in reading your just send #matchQ7 to get format of question in text'\n"
      ],
      "metadata": {
        "id": "2yiQCPg-jqNr"
      },
      "execution_count": null,
      "outputs": []
    },
    {
      "cell_type": "code",
      "source": [
        "def Q71(textofimage):\n",
        "  \n",
        "  ques = '7 students watched a patriotic movie. An analyst wishes to ask each student whether they liked the movie or not. Each student can either answer the question or refuse to respond. In how many ways, can the analyst get responses from the students?'\n",
        "  ans = \"Please copy the message as it is and replace the values according to your question and send #solveQ7 \"\n",
        "\n",
        "  return ques +'  \\n\\n'+ str(ans)"
      ],
      "metadata": {
        "id": "uMW3RQrKFXmm"
      },
      "execution_count": null,
      "outputs": []
    },
    {
      "cell_type": "code",
      "source": [
        "def Q8(textofimage):\n",
        "  val = re.findall('(\\d+)[^,.\\d\\n]+?(?=non)',textofimage)\n",
        "  try:\n",
        "    ques = 'If the value of sum of first '+str(val[0])+' non-zero natural numbers is equal to {} , then find the value of 1/{}?'\n",
        "    ans = \"Sorry! I could'nt extract data from the image. You may retry or send #matchQ8 to get the question in text format. Surely, I would handle that.\"\n",
        "  except:\n",
        "    ques = emoji.emojize(\":zipper-mouth_face:\")\n",
        "    ans = \"Sorry! There was some issue while handling your file. Please try again with a different image \"\n",
        "\n",
        "  return ques +'\\n\\nAnswer : \\n\\n'+ str(ans)"
      ],
      "metadata": {
        "id": "5uVOiFsXjrjN"
      },
      "execution_count": null,
      "outputs": []
    },
    {
      "cell_type": "code",
      "source": [
        "def Q82(textofimage):\n",
        "  \n",
        "  ques = 'If the value of sum of first 5 non-zero natural numbers is equal to factorial(6)x/4 then find the value of 1/x?'\n",
        "  ans = \"Please copy the message as it is and just replace the values according to your question #solveQ8 \"\n",
        "\n",
        "  return ques +'  \\n\\n'+ str(ans)"
      ],
      "metadata": {
        "id": "-ILi6ViE5Szb"
      },
      "execution_count": null,
      "outputs": []
    },
    {
      "cell_type": "code",
      "source": [
        "def Q83(textofimage):\n",
        "  val = re.findall('(\\d+)[^,.\\d\\n]+?(?=non|x|then)',textofimage)\n",
        "  try:\n",
        "    ques = 'If the value of sum of first '+str(val[0])+' non-zero natural numbers is equal to '+str(val[1])+'!x/'+str(val[2])+' , then find the value of 1/x?'\n",
        "    ans = (factorial(int(val[1]))*2)/(int(val[2])*int(val[0])*(int(val[0])+1))\n",
        "  except:\n",
        "    ques = emoji.emojize(\":zipper-mouth_face:\")\n",
        "    ans = \"Sorry! There was some issue while handling your file. Please try again with a different image\"\n",
        "  return ques +' \\n\\nAnswer: '+ str(ans)"
      ],
      "metadata": {
        "id": "oiYggeGW7mBm"
      },
      "execution_count": null,
      "outputs": []
    },
    {
      "cell_type": "code",
      "source": [
        "def Q9(textofimage):\n",
        "  val = re.findall('(\\d+)[^,.\\d\\n]+?(?=digit)',textofimage)\n",
        "  try:\n",
        "    ques = 'Adam wrote down a '+str(val[0])+'-digit university roll number on a piece of paper. On his way home from office, it rained heavily and the paper got wet. Later, he saw that the first '+str(val[1])+' digits of the roll number had disappeared. In how many ways can Adam complete this university roll number if repetition of digits is allowed?'\n",
        "    ans = pow(10,int(val[1]))\n",
        "  except:\n",
        "    ques = emoji.emojize(\":zipper-mouth_face:\")\n",
        "    ans = \"Sorry! There was some issue while handling your file. Please try again with a different image or send #matchQ9 to get the question in text format. Surely, I would handle that.\"\n",
        "\n",
        "  return ques +' Answer : '+ str(ans)+'\\nIf you think I have made any error in reading your just send #matchQ9 to get format of question in text'\n"
      ],
      "metadata": {
        "id": "gk3ljSBBjs0X"
      },
      "execution_count": null,
      "outputs": []
    },
    {
      "cell_type": "code",
      "source": [
        "def Q91(textofimage):\n",
        "  \n",
        "  ques = 'Adam wrote down a 12-digit university roll number on a piece of paper. On his way home from office, it rained heavily and the paper got wet. Later, he saw that the first 4 digits of the roll number had disappeared. In how many ways can Adam complete this university roll number if repetition of digits is allowed?'\n",
        "  ans = \"Please copy the message as it is and just replace the values according to your question #solveQ9 \"\n",
        "\n",
        "  return ques +'  \\n\\n'+ str(ans)"
      ],
      "metadata": {
        "id": "h23GYSqcF0s_"
      },
      "execution_count": null,
      "outputs": []
    },
    {
      "cell_type": "code",
      "source": [
        "def Q10(textofimage):\n",
        "  try:\n",
        "    ques = 'Let x = factorial({})/{}xfactorial({}).Which of the following expressions is/are equal to x?'\n",
        "    ans =\"Sorry! I could'nt extract data from the image. You may retry or send #matchQ10 to get the question in text format. Surely, I would handle that.\"\n",
        "\n",
        "  except:\n",
        "    ques = emoji.emojize(\":zipper-mouth_face:\")\n",
        "    ans = \"Sorry! There was some issue while handling your file. Please try again with a different image\"\n",
        "\n",
        "  return ques +'\\n\\nAnswer : '+ str(ans)+'\\nIf you think I have made any error in reading your just send #matchQ<your question number> to get format of question in text'\n"
      ],
      "metadata": {
        "id": "znNw-_rXjuvG"
      },
      "execution_count": null,
      "outputs": []
    },
    {
      "cell_type": "code",
      "source": [
        "def Q102(textofimage):\n",
        "  \n",
        "  ques = 'Let x = 5!/4x3!.Which of the following expressions is/are equal to x?'\n",
        "  ans = \"Please copy the message as it is and replace the values according to your question and send #solveQ10 \"\n",
        "\n",
        "  return ques +'  \\n\\n'+ str(ans)"
      ],
      "metadata": {
        "id": "HENBbc-upAks"
      },
      "execution_count": null,
      "outputs": []
    },
    {
      "cell_type": "code",
      "source": [
        "def Q103(textofimage):\n",
        "  val = re.findall(\"[2-9]\",textofimage)\n",
        "  try:\n",
        "    ques = 'Let x ='+str(val[0])+'!/'+str(val[1])+'x'+str(val[2])+'! .Which of the following expressions is/are equal to x?'\n",
        "    ans = factorial(int(val[0]))/(int(val[1])*factorial(int(val[2])))\n",
        "\n",
        "  except:\n",
        "    ques = emoji.emojize(\":zipper-mouth_face:\")\n",
        "    ans = \"Sorry! There was some issue while handling your file. Please try again with a different image\"\n",
        "\n",
        "  return ques +'\\n\\nAnswer : '+ str(ans)+'\\nIf you think I have made any error in reading your just send #matchQ10 to get format of question in text'"
      ],
      "metadata": {
        "id": "b3pb4gEjpbfb"
      },
      "execution_count": null,
      "outputs": []
    },
    {
      "cell_type": "code",
      "source": [
        "import requests\n",
        "import pytesseract\n",
        "import urllib.request\n",
        "from PIL import Image\n",
        "import PIL\n",
        "from pathlib import Path\n",
        "from PIL import UnidentifiedImageError\n",
        "import numpy as np\n",
        "base_url = \"https://api.telegram.org/bot<token>\"\n",
        "token = '<token>'\n",
        "\n",
        "\n",
        "\n",
        "\n",
        "\n",
        "def read_msg(offset):\n",
        "  parameters = {\n",
        "      \"offset\" :offset\n",
        "\n",
        "  }\n",
        "\n",
        "  resp = requests.get(base_url + \"/getUpdates\", data = parameters)\n",
        "  \n",
        "  data = resp.json()\n",
        "\n",
        "  print(data)\n",
        "\n",
        "\n",
        "  for result in data[\"result\"]:\n",
        "\n",
        "    if \"edited_message\" in result.keys():\n",
        "      if \"text\" in result[\"edited_message\"].keys():\n",
        "        if \"#mathmatch\" in result[\"edited_message\"][\"text\"]:\n",
        "          Q1ans = \"Sorry! I cannot reply to edited message. You may try resending it\"\n",
        "          send_msg(result,Q1ans)\n",
        "    if \"message\" in result.keys():\n",
        "      if \"text\" in result[\"message\"].keys():\n",
        "\n",
        "        if '#matchQ8' in result[\"message\"]['text']:\n",
        "          ans = Q82(result[\"message\"]['text'])\n",
        "          send_msg(result, ans)\n",
        "          if data[\"result\"]:\n",
        "            return data[\"result\"][-1][\"update_id\"] + 1\n",
        "        elif '#solveQ8' in result[\"message\"]['text']:\n",
        "          ans = Q83(result[\"message\"]['text'])\n",
        "          send_msg(result, ans)\n",
        "          if data[\"result\"]:\n",
        "            return data[\"result\"][-1][\"update_id\"] + 1\n",
        "        elif '#matchQ10' in result[\"message\"]['text']:\n",
        "          ans = Q102(result[\"message\"]['text'])\n",
        "          send_msg(result, ans)\n",
        "          if data[\"result\"]:\n",
        "            return data[\"result\"][-1][\"update_id\"] + 1\n",
        "        elif '#solveQ10' in result[\"message\"]['text']:\n",
        "          ans = Q103(result[\"message\"]['text'])\n",
        "          send_msg(result, ans)\n",
        "          if data[\"result\"]:\n",
        "            return data[\"result\"][-1][\"update_id\"] + 1\n",
        "        \n",
        "        elif '#matchQ1' in result[\"message\"]['text']:\n",
        "          ans = Q11(result[\"message\"]['text'])\n",
        "          send_msg(result, ans)\n",
        "          if data[\"result\"]:\n",
        "            return data[\"result\"][-1][\"update_id\"] + 1\n",
        "        elif '#solveQ1' in result[\"message\"]['text']:\n",
        "          ans = Q1(result[\"message\"]['text'])\n",
        "          send_msg(result, ans)\n",
        "          if data[\"result\"]:\n",
        "            return data[\"result\"][-1][\"update_id\"] + 1\n",
        "\n",
        "        elif '#matchQ2' in result[\"message\"]['text']:\n",
        "          ans = Q21(result[\"message\"]['text'])\n",
        "          send_msg(result, ans)\n",
        "          if data[\"result\"]:\n",
        "            return data[\"result\"][-1][\"update_id\"] + 1\n",
        "        elif '#solveQ2' in result[\"message\"]['text']:\n",
        "          ans = Q2(result[\"message\"]['text'])\n",
        "          send_msg(result, ans)\n",
        "          if data[\"result\"]:\n",
        "            return data[\"result\"][-1][\"update_id\"] + 1\n",
        "\n",
        "        elif '#matchQ3' in result[\"message\"]['text']:\n",
        "          ans = Q31(result[\"message\"]['text'])\n",
        "          send_msg(result, ans)\n",
        "          if data[\"result\"]:\n",
        "            return data[\"result\"][-1][\"update_id\"] + 1\n",
        "        elif '#solveQ3' in result[\"message\"]['text']:\n",
        "          ans = Q3(result[\"message\"]['text'])\n",
        "          send_msg(result, ans)\n",
        "          if data[\"result\"]:\n",
        "            return data[\"result\"][-1][\"update_id\"] + 1\n",
        "\n",
        "        elif '#matchQ4' in result[\"message\"]['text']:\n",
        "          ans = Q41(result[\"message\"]['text'])\n",
        "          send_msg(result, ans)\n",
        "          if data[\"result\"]:\n",
        "            return data[\"result\"][-1][\"update_id\"] + 1\n",
        "        elif '#solveQ4' in result[\"message\"]['text']:\n",
        "          ans = Q4(result[\"message\"]['text'])\n",
        "          send_msg(result, ans)\n",
        "          if data[\"result\"]:\n",
        "            return data[\"result\"][-1][\"update_id\"] + 1\n",
        "\n",
        "\n",
        "        elif '#matchQ5' in result[\"message\"]['text']:\n",
        "          ans = Q51(result[\"message\"]['text'])\n",
        "          send_msg(result, ans)\n",
        "          if data[\"result\"]:\n",
        "            return data[\"result\"][-1][\"update_id\"] + 1\n",
        "        elif '#solveQ5' in result[\"message\"]['text']:\n",
        "          ans = Q5(result[\"message\"]['text'])\n",
        "          send_msg(result, ans)\n",
        "          if data[\"result\"]:\n",
        "            return data[\"result\"][-1][\"update_id\"] + 1\n",
        "\n",
        "        elif '#matchQ6' in result[\"message\"]['text']:\n",
        "          ans = Q61(result[\"message\"]['text'])\n",
        "          send_msg(result, ans)\n",
        "          if data[\"result\"]:\n",
        "            return data[\"result\"][-1][\"update_id\"] + 1\n",
        "        elif '#solveQ6' in result[\"message\"]['text']:\n",
        "          ans = Q6(result[\"message\"]['text'])\n",
        "          send_msg(result, ans)\n",
        "          if data[\"result\"]:\n",
        "            return data[\"result\"][-1][\"update_id\"] + 1\n",
        "\n",
        "        elif '#matchQ7' in result[\"message\"]['text']:\n",
        "          ans = Q71(result[\"message\"]['text'])\n",
        "          send_msg(result, ans)\n",
        "          if data[\"result\"]:\n",
        "            return data[\"result\"][-1][\"update_id\"] + 1\n",
        "        elif '#solveQ7' in result[\"message\"]['text']:\n",
        "          ans = Q7(result[\"message\"]['text'])\n",
        "          send_msg(result, ans)\n",
        "          if data[\"result\"]:\n",
        "            return data[\"result\"][-1][\"update_id\"] + 1\n",
        "\n",
        "        elif '#matchQ9' in result[\"message\"]['text']:\n",
        "          ans = Q91(result[\"message\"]['text'])\n",
        "          send_msg(result, ans)\n",
        "          if data[\"result\"]:\n",
        "            return data[\"result\"][-1][\"update_id\"] + 1\n",
        "        elif '#solveQ9' in result[\"message\"]['text']:\n",
        "          ans = Q9(result[\"message\"]['text'])\n",
        "          send_msg(result, ans)\n",
        "          if data[\"result\"]:\n",
        "            return data[\"result\"][-1][\"update_id\"] + 1\n",
        "\n",
        "\n",
        "           # \"______________________________________________________________\"\n",
        "\n",
        "        if data[\"result\"]:\n",
        "          return data[\"result\"][-1][\"update_id\"] + 1\n",
        "      elif \"photo\" in result[\"message\"]:\n",
        "        \n",
        "        file_id = result[\"message\"]['photo'][-1]['file_id']\n",
        "        getFile = requests.get(base_url+\"/getFile?file_id=\"+file_id).json()\n",
        "        file_path = getFile[\"result\"]['file_path']\n",
        "        photo_url = 'https://api.telegram.org/file/bot'+token+'/'+file_path\n",
        "        print(photo_url)\n",
        "        urllib.request.urlretrieve(photo_url,\"image.png\")\n",
        "        img = Image.open('image.png')\n",
        "        textofimage = pytesseract.image_to_string(img)\n",
        "      \n",
        "        '---------------------------------------------------------------------------'\n",
        "        #Navigating to questions:\n",
        "\n",
        "        if 'Let' in textofimage:\n",
        "          ans = Q10(textofimage)\n",
        "          send_msg(result, ans)\n",
        "          if data[\"result\"]:\n",
        "            return data[\"result\"][-1][\"update_id\"] + 1\n",
        "\n",
        "        elif '1)' in textofimage or 'Vinod' in textofimage:\n",
        "          ans = Q1(textofimage)\n",
        "          send_msg(result, ans)\n",
        "          if data[\"result\"]:\n",
        "            return data[\"result\"][-1][\"update_id\"] + 1\n",
        "        \n",
        "        elif '2)' in textofimage or 'classmates' in textofimage:\n",
        "          ans = Q2(textofimage)\n",
        "          send_msg(result, ans)\n",
        "          if data[\"result\"]:\n",
        "            return data[\"result\"][-1][\"update_id\"] + 1\n",
        "\n",
        "        elif '3)' in textofimage:\n",
        "          ans = Q3(textofimage)\n",
        "          send_msg(result, ans)\n",
        "          if data[\"result\"]:\n",
        "            return data[\"result\"][-1][\"update_id\"] + 1\n",
        "\n",
        "        elif '4)' in textofimage:\n",
        "          ans = Q4(textofimage)\n",
        "          send_msg(result, ans)\n",
        "          if data[\"result\"]:\n",
        "            return data[\"result\"][-1][\"update_id\"] + 1\n",
        "\n",
        "        elif '5)' in textofimage or 'Ram' in textofimage:\n",
        "          ans = Q5(textofimage)\n",
        "          send_msg(result, ans)\n",
        "          if data[\"result\"]:\n",
        "            return data[\"result\"][-1][\"update_id\"] + 1\n",
        "\n",
        "        elif '6)' in textofimage or 'awarded' in textofimage:\n",
        "          ans = Q6(textofimage)\n",
        "          send_msg(result, ans)\n",
        "          if data[\"result\"]:\n",
        "            return data[\"result\"][-1][\"update_id\"] + 1\n",
        "\n",
        "        elif '7)' in textofimage or 'movie' in textofimage:\n",
        "          ans = Q7(textofimage)\n",
        "          send_msg(result, ans)\n",
        "          if data[\"result\"]:\n",
        "            return data[\"result\"][-1][\"update_id\"] + 1\n",
        "\n",
        "        elif '8)' in textofimage or 'natural' in textofimage:\n",
        "          ans = Q8(textofimage)\n",
        "          send_msg(result, ans)\n",
        "          if data[\"result\"]:\n",
        "            return data[\"result\"][-1][\"update_id\"] + 1\n",
        "\n",
        "        elif '9)' in textofimage or 'Adam' in textofimage:\n",
        "          ans = Q9(textofimage)\n",
        "          send_msg(result, ans)\n",
        "          if data[\"result\"]:\n",
        "            return data[\"result\"][-1][\"update_id\"] + 1\n",
        "\n",
        "        \n",
        "\n",
        "        else:\n",
        "          ans = \"Could'nt Process Your Data! Please try again \"\n",
        "          send_msg(result, ans)\n",
        "          if data[\"result\"]:\n",
        "            return data[\"result\"][-1][\"update_id\"] + 1\n",
        "\n",
        "    if data[\"result\"]:\n",
        "          return data[\"result\"][-1][\"update_id\"] + 1\n",
        "\n",
        "\n",
        "      \n",
        "      \n",
        "\n",
        "def send_msg(message,num):\n",
        "  try:\n",
        "    msg_id = message[\"message\"][\"message_id\"]\n",
        "    name = message[\"message\"][\"from\"][\"first_name\"]\n",
        "    chat_id = message[\"message\"][\"chat\"][\"id\"]\n",
        "\n",
        "    if (message[\"message\"][\"chat\"][\"type\"]==\"private\"):\n",
        "\n",
        "      parameters = {\n",
        "          \"chat_id\" : chat_id,\n",
        "          \"text\" : \"Sorry! But I am not suppose to reply you back in private. Follow this link to join your friends and ask your question : https://t.me/+VmDY-E-Q6Pg5ZTVl \",\n",
        "          \"reply_to_message_id\" : msg_id\n",
        "      }\n",
        "      resp = requests.get(base_url + \"/sendMessage\", data = parameters)\n",
        "    else:\n",
        "      parameters = {\n",
        "          \"chat_id\" : chat_id,\n",
        "          \"text\" :\"Here it is : \\n\"+ num + \"\\n\\nAnswer Matching? Thumbs up! or Not Matching? Thumbs down!\",\n",
        "          \"reply_to_message_id\" : msg_id\n",
        "      }\n",
        "      resp = requests.get(base_url + \"/sendMessage\", data = parameters)\n",
        "  except:\n",
        "    chat_id = message[\"message\"][\"chat\"][\"id\"]\n",
        "    parameters = {\n",
        "        \n",
        "        \"chat_id\" :chat_id,\n",
        "        \"text\" : \"It seems there is some problem! Try Again.\",\n",
        "        \"reply_to_message_id\" : msg_id\n",
        "    }\n",
        "    resp = requests.get(base_url + \"/sendMessage\", data = parameters)\n",
        "    print(resp.text)\n",
        "\n",
        "# def user\n",
        "# resp = requests.get(base_url + \"/User\", data = parameters)\n",
        "\n",
        "offset = 0\n",
        "\n",
        "while True:\n",
        "\n",
        "  offset = read_msg(offset)"
      ],
      "metadata": {
        "id": "iESI2cvX4GyN"
      },
      "execution_count": null,
      "outputs": []
    }
  ]
}
