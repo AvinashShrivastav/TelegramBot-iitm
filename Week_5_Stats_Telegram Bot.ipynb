{
  "nbformat": 4,
  "nbformat_minor": 0,
  "metadata": {
    "colab": {
      "provenance": [],
      "authorship_tag": "ABX9TyOeZKmTNlPgGKtqNcSGdvCd",
      "include_colab_link": true
    },
    "kernelspec": {
      "name": "python3",
      "display_name": "Python 3"
    },
    "language_info": {
      "name": "python"
    }
  },
  "cells": [
    {
      "cell_type": "markdown",
      "metadata": {
        "id": "view-in-github",
        "colab_type": "text"
      },
      "source": [
        "<a href=\"https://colab.research.google.com/github/AvinashShrivastav/TelegramBot-iitm/blob/main/Week_5_Stats_Telegram%20Bot.ipynb\" target=\"_parent\"><img src=\"https://colab.research.google.com/assets/colab-badge.svg\" alt=\"Open In Colab\"/></a>"
      ]
    },
    {
      "cell_type": "code",
      "source": [
        "!sudo apt install tesseract-ocr\n",
        "!pip install pytesseract\n"
      ],
      "metadata": {
        "colab": {
          "base_uri": "https://localhost:8080/"
        },
        "id": "NOyyKPFc729U",
        "outputId": "c064b3b8-3765-4102-ecdf-23ae3455718c"
      },
      "execution_count": 1,
      "outputs": [
        {
          "output_type": "stream",
          "name": "stdout",
          "text": [
            "Reading package lists... Done\n",
            "Building dependency tree       \n",
            "Reading state information... Done\n",
            "The following package was automatically installed and is no longer required:\n",
            "  libnvidia-common-525\n",
            "Use 'sudo apt autoremove' to remove it.\n",
            "The following additional packages will be installed:\n",
            "  tesseract-ocr-eng tesseract-ocr-osd\n",
            "The following NEW packages will be installed:\n",
            "  tesseract-ocr tesseract-ocr-eng tesseract-ocr-osd\n",
            "0 upgraded, 3 newly installed, 0 to remove and 23 not upgraded.\n",
            "Need to get 4,850 kB of archives.\n",
            "After this operation, 16.3 MB of additional disk space will be used.\n",
            "Get:1 http://archive.ubuntu.com/ubuntu focal/universe amd64 tesseract-ocr-eng all 1:4.00~git30-7274cfa-1 [1,598 kB]\n",
            "Get:2 http://archive.ubuntu.com/ubuntu focal/universe amd64 tesseract-ocr-osd all 1:4.00~git30-7274cfa-1 [2,990 kB]\n",
            "Get:3 http://archive.ubuntu.com/ubuntu focal/universe amd64 tesseract-ocr amd64 4.1.1-2build2 [262 kB]\n",
            "Fetched 4,850 kB in 1s (4,060 kB/s)\n",
            "debconf: unable to initialize frontend: Dialog\n",
            "debconf: (No usable dialog-like program is installed, so the dialog based frontend cannot be used. at /usr/share/perl5/Debconf/FrontEnd/Dialog.pm line 76, <> line 3.)\n",
            "debconf: falling back to frontend: Readline\n",
            "debconf: unable to initialize frontend: Readline\n",
            "debconf: (This frontend requires a controlling tty.)\n",
            "debconf: falling back to frontend: Teletype\n",
            "dpkg-preconfigure: unable to re-open stdin: \n",
            "Selecting previously unselected package tesseract-ocr-eng.\n",
            "(Reading database ... 128293 files and directories currently installed.)\n",
            "Preparing to unpack .../tesseract-ocr-eng_1%3a4.00~git30-7274cfa-1_all.deb ...\n",
            "Unpacking tesseract-ocr-eng (1:4.00~git30-7274cfa-1) ...\n",
            "Selecting previously unselected package tesseract-ocr-osd.\n",
            "Preparing to unpack .../tesseract-ocr-osd_1%3a4.00~git30-7274cfa-1_all.deb ...\n",
            "Unpacking tesseract-ocr-osd (1:4.00~git30-7274cfa-1) ...\n",
            "Selecting previously unselected package tesseract-ocr.\n",
            "Preparing to unpack .../tesseract-ocr_4.1.1-2build2_amd64.deb ...\n",
            "Unpacking tesseract-ocr (4.1.1-2build2) ...\n",
            "Setting up tesseract-ocr-eng (1:4.00~git30-7274cfa-1) ...\n",
            "Setting up tesseract-ocr-osd (1:4.00~git30-7274cfa-1) ...\n",
            "Setting up tesseract-ocr (4.1.1-2build2) ...\n",
            "Processing triggers for man-db (2.9.1-1) ...\n",
            "Looking in indexes: https://pypi.org/simple, https://us-python.pkg.dev/colab-wheels/public/simple/\n",
            "Collecting pytesseract\n",
            "  Downloading pytesseract-0.3.10-py3-none-any.whl (14 kB)\n",
            "Requirement already satisfied: Pillow>=8.0.0 in /usr/local/lib/python3.9/dist-packages (from pytesseract) (8.4.0)\n",
            "Requirement already satisfied: packaging>=21.3 in /usr/local/lib/python3.9/dist-packages (from pytesseract) (23.0)\n",
            "Installing collected packages: pytesseract\n",
            "Successfully installed pytesseract-0.3.10\n"
          ]
        }
      ]
    },
    {
      "cell_type": "code",
      "source": [
        "pip install emoji"
      ],
      "metadata": {
        "colab": {
          "base_uri": "https://localhost:8080/"
        },
        "id": "KAVj5h8gdsH0",
        "outputId": "0ec0ffd6-b4e8-4288-b102-c003923f411b"
      },
      "execution_count": 2,
      "outputs": [
        {
          "output_type": "stream",
          "name": "stdout",
          "text": [
            "Looking in indexes: https://pypi.org/simple, https://us-python.pkg.dev/colab-wheels/public/simple/\n",
            "Collecting emoji\n",
            "  Downloading emoji-2.2.0.tar.gz (240 kB)\n",
            "\u001b[2K     \u001b[90m━━━━━━━━━━━━━━━━━━━━━━━━━━━━━━━━━━━━━━━\u001b[0m \u001b[32m240.9/240.9 KB\u001b[0m \u001b[31m5.3 MB/s\u001b[0m eta \u001b[36m0:00:00\u001b[0m\n",
            "\u001b[?25h  Preparing metadata (setup.py) ... \u001b[?25l\u001b[?25hdone\n",
            "Building wheels for collected packages: emoji\n",
            "  Building wheel for emoji (setup.py) ... \u001b[?25l\u001b[?25hdone\n",
            "  Created wheel for emoji: filename=emoji-2.2.0-py3-none-any.whl size=234926 sha256=c9a36416ecd135fc5a048ce76b8450e5d2ec268b7203936c706567ac53a7b8dc\n",
            "  Stored in directory: /root/.cache/pip/wheels/9a/b8/0f/f580817231cbf59f6ade9fd132ff60ada1de9f7dc85521f857\n",
            "Successfully built emoji\n",
            "Installing collected packages: emoji\n",
            "Successfully installed emoji-2.2.0\n"
          ]
        }
      ]
    },
    {
      "cell_type": "code",
      "source": [
        "import pytesseract\n",
        "\n",
        "import shutil\n",
        "\n",
        "import os\n",
        "\n",
        "import random\n",
        "import re\n",
        "import math\n",
        "import emoji\n",
        "import sympy as sy\n",
        "from sympy import factorial, symbols,solve,Eq\n",
        "try:\n",
        "\n",
        "  from PIL import Image\n",
        "\n",
        "except ImportError:\n",
        "  import Image\n",
        "from PIL import Image"
      ],
      "metadata": {
        "id": "qV2H_Ew8EYSb"
      },
      "execution_count": 3,
      "outputs": []
    },
    {
      "cell_type": "markdown",
      "source": [
        "Codes for questions"
      ],
      "metadata": {
        "id": "IT1LpdJwRiWF"
      }
    },
    {
      "cell_type": "code",
      "source": [
        "\n",
        "def Q1(textofimage):\n",
        "  \n",
        "  val = re.findall('(\\d+)[^,.\\d\\n]+?(?=registers|cover)',textofimage)\n",
        "  try:\n",
        "    ques = 'Vinod has '+ str(val[0]) + ' registers and '+ str(val[1]) + ' cover papers of different colours. In how many ways can he cover all the registers with cover papers?'\n",
        "    ans = (math.factorial(int(val[1]))/(math.factorial(int(val[0]))*math.factorial(int(val[1])-int(val[0]))))*math.factorial(int(val[0]))\n",
        "    ans = round(ans)\n",
        "  except:\n",
        "    ques = emoji.emojize(\":zipper-mouth_face:\")\n",
        "    ans = \"Sorry! There was some issue while handling your file. Please try again with a different image or send #matchQ1 to get the question in text format. Surely, I would handle that.\"\n",
        "\n",
        "  return ques +'\\n\\nAnswer : '+ str(ans) +'\\nIf you think I have made any error in reading your just send #matchQ1 to get format of question in text'\n",
        "\n",
        "Q1('Vinod has 5 registers and 8 cover papers of different colours. In how many ways can he cover all the registers with cover papers?')\n"
      ],
      "metadata": {
        "colab": {
          "base_uri": "https://localhost:8080/",
          "height": 54
        },
        "id": "5alVpaRqRhQJ",
        "outputId": "dac42fe1-48c4-4561-ca04-c24393894204"
      },
      "execution_count": 4,
      "outputs": [
        {
          "output_type": "execute_result",
          "data": {
            "text/plain": [
              "'Vinod has 5 registers and 8 cover papers of different colours. In how many ways can he cover all the registers with cover papers?\\n\\nAnswer : 6720\\nIf you think I have made any error in reading your just send #matchQ1 to get format of question in text'"
            ],
            "application/vnd.google.colaboratory.intrinsic+json": {
              "type": "string"
            }
          },
          "metadata": {},
          "execution_count": 4
        }
      ]
    },
    {
      "cell_type": "code",
      "source": [
        "def Q11(textofimage):\n",
        "  \n",
        "  ques = 'Vinod has 5 registers and 8 cover papers of different colours. In how many ways can he cover all the registers with cover papers?'\n",
        "  ans = \"Please copy the message as it is and just replace the values according to your question #solveQ1 \"\n",
        "\n",
        "  return ques +'  \\n\\n'+ str(ans)"
      ],
      "metadata": {
        "id": "ugCiNoXGCcr1"
      },
      "execution_count": 5,
      "outputs": []
    },
    {
      "cell_type": "code",
      "source": [
        "def Q2(textofimage):\n",
        "  val = re.findall('(\\d+)[^,.\\d\\n]+?(?=classmates)',textofimage)\n",
        "  try:\n",
        "    ques = str(val[0]) + ' classmates could not agree on who would stand in the group photo along with the teacher for the yearbook. How many possible groups can be made such that there is at least one student with the teacher in the photo?'\n",
        "    ans = pow(2,int(val[0])) - 1\n",
        "  except:\n",
        "    ques = emoji.emojize(\":zipper-mouth_face:\")\n",
        "    ans = \"Sorry! There was some issue while handling your file. Please try again with a different image or send #matchQ2 to get the question in text format. Surely, I would handle that.\"\n",
        "\n",
        "  return ques +'\\n\\nAnswer : '+ str(ans)+'\\nIf you think I have made any error in reading your just send #matchQ2 to get format of question in text'\n"
      ],
      "metadata": {
        "id": "fgsoPiFeXUUh"
      },
      "execution_count": 6,
      "outputs": []
    },
    {
      "cell_type": "code",
      "source": [
        "def Q21(textofimage):\n",
        "  \n",
        "  ques = '6 classmates could not agree on who would stand in the group photo along with the teacher for the yearbook. How many possible groups can be made such that there is at least one student with the teacher in the photo?'\n",
        "  ans = \"Please copy the message as it is and just replace the values according to your question #solveQ2 \"\n",
        "\n",
        "  return ques +'  \\n\\n'+ str(ans)"
      ],
      "metadata": {
        "id": "865aIqkEC5Rq"
      },
      "execution_count": 7,
      "outputs": []
    },
    {
      "cell_type": "code",
      "source": [
        "def Q3(textofimage):\n",
        "  \n",
        "  try:\n",
        "    val = re.findall('(\\d+)[^,.\\d\\n]+?(?=alphabets|numbers)',textofimage)\n",
        "    ques = 'Jay bought a new car in New York where a license plate can be created with alphabets A, B, C, D, E, W, X, Y, Z and numbers 0 to 9. He can either select a normal license plate or a VIP license plate. The VIP license plate begins with ' +str(val[0])+' alphabets followed by ' +str(val[1])+' numbers with repetition allowed. The normal license plate begins with ' +str(val[2])+' numbers followed by ' +str(val[3])+' alphabets without repetition.In how many ways can he select VIP license plate?'\n",
        "    ans =  pow(9,int(val[0]))*pow(10,int(val[1]))\n",
        "  except:\n",
        "    ques = emoji.emojize(\":zipper-mouth_face:\")\n",
        "    ans = \"Sorry! There was some issue while handling your file. Please try again with a different image or send #matchQ3 to get the question in text format. Surely, I would handle that. \\nPreferred image: set of allowed alphabets should be in a line.\"\n",
        "\n",
        "  return  ques + '\\n\\nAnswer : '+ str(ans)+'\\nIf you think I have made any error in reading your just send #matchQ3 to get format of question in text'\n",
        "\n",
        "\n",
        "q='''Jay bought a new car in New York where a license plate can be created with alphabets A, B, C, D, E, W, X, Y, Z and numbers 0 to 9. He can either select a normal license plate or a VIP license plate. The VIP license plate begins with 2 alphabets followed by 4 numbers with repetition allowed. The normal license plate begins with 2 numbers followed by 3 alphabets without repetition.In how many ways can he select VIP license plate?'''\n",
        "Q3(q)"
      ],
      "metadata": {
        "colab": {
          "base_uri": "https://localhost:8080/",
          "height": 90
        },
        "id": "6iO-2nopjVd3",
        "outputId": "4ffa0926-7755-4121-9db8-c893ec9a7e73"
      },
      "execution_count": 8,
      "outputs": [
        {
          "output_type": "execute_result",
          "data": {
            "text/plain": [
              "'Jay bought a new car in New York where a license plate can be created with alphabets A, B, C, D, E, W, X, Y, Z and numbers 0 to 9. He can either select a normal license plate or a VIP license plate. The VIP license plate begins with 2 alphabets followed by 4 numbers with repetition allowed. The normal license plate begins with 2 numbers followed by 3 alphabets without repetition.In how many ways can he select VIP license plate?\\n\\nAnswer : 810000\\nIf you think I have made any error in reading your just send #matchQ3 to get format of question in text'"
            ],
            "application/vnd.google.colaboratory.intrinsic+json": {
              "type": "string"
            }
          },
          "metadata": {},
          "execution_count": 8
        }
      ]
    },
    {
      "cell_type": "code",
      "source": [
        "def Q31(textofimage):\n",
        "  \n",
        "  ques = 'Jay bought a new car in New York where a license plate can be created with alphabets A, B, C, D, E, W, X, Y, Z and numbers 0 to 9. He can either select a normal license plate or a VIP license plate. The VIP license plate begins with 1 alphabets followed by 2 numbers with repetition allowed. The normal license plate begins with 1 numbers followed by 2 alphabets without repetition.In how many ways can he select VIP license plate?'\n",
        "  ans = \"Please copy the message as it is and just replace the values according to your question #solveQ3 \"\n",
        "\n",
        "  return ques +'  \\n\\n'+ str(ans)"
      ],
      "metadata": {
        "id": "PEX4FxF-DmWg"
      },
      "execution_count": 9,
      "outputs": []
    },
    {
      "cell_type": "code",
      "source": [
        "def Q4(textofimage):\n",
        "  \n",
        "  try:\n",
        "    val = re.findall('(\\d+)[^,.\\d\\n]+?(?=alphabets|numbers)',textofimage)\n",
        "    ques = 'Jay bought a new car in New York where a license plate can be created with alphabets A, B, C, D, E, W, X, Y, Z and numbers 0 to 9. He can either select a normal license plate or a VIP license plate. The VIP license plate begins with ' +str(val[0])+' alphabets followed by ' +str(val[1])+' numbers with repetition allowed. The normal license plate begins with ' +str(val[2])+' numbers followed by ' +str(val[3])+' alphabets without repetition.In how many ways can he select VIP license plate?'\n",
        "    ans1 =  pow(9,int(val[0]))*pow(10,int(val[1]))\n",
        "    ans2 = (factorial(10)*factorial(9))/((factorial(10-int(val[2]))*factorial(9-int(val[3]))))\n",
        "  # ans2= ((factorial(10)*factorial(int(val[3])))/(factorial(int(val[3]))*factorial(10-int(val[3]))))*((factorial(n1)*factorial(int(val[4])))/(factorial(int(val[4]))*factorial(n1-int(val[4]))))\n",
        "    ans = str(ans1+ans2) + \"\\nNote: we have considered that the first digit of a number plate may be 0. \"\n",
        "  except:\n",
        "    ques = emoji.emojize(\":zipper-mouth_face:\")\n",
        "    ans = \"Sorry! There was some issue while handling your file. Please try again with a different image or send #matchQ4 to get the question in text format. Surely, I would handle that. \\nPreferred image: set of allowed alphabets should be in a line.\"\n",
        "\n",
        "  return  ques + '\\n\\nAnswer : '+ str(ans)+'\\nIf you think I have made any error in reading your just send #matchQ4 to get format of question in text'\n",
        "\n",
        "\n",
        "q='''Jay bought a new car in New York where a license plate can be created with alphabets A, B, C, D, E, W, X, Y, Z and numbers 0 to 9. He can either select a normal license plate or a VIP license plate. The VIP license plate begins with 2 alphabets followed by 4 numbers with repetition allowed. The normal license plate begins with 2 numbers followed by 3 alphabets without repetition.In how many ways can he select VIP license plate?'''\n",
        "Q4(q)"
      ],
      "metadata": {
        "id": "7dyccUVbjlGc",
        "colab": {
          "base_uri": "https://localhost:8080/",
          "height": 90
        },
        "outputId": "bdf0f055-a821-40af-d4be-dc70f265c92c"
      },
      "execution_count": 10,
      "outputs": [
        {
          "output_type": "execute_result",
          "data": {
            "text/plain": [
              "'Jay bought a new car in New York where a license plate can be created with alphabets A, B, C, D, E, W, X, Y, Z and numbers 0 to 9. He can either select a normal license plate or a VIP license plate. The VIP license plate begins with 2 alphabets followed by 4 numbers with repetition allowed. The normal license plate begins with 2 numbers followed by 3 alphabets without repetition.In how many ways can he select VIP license plate?\\n\\nAnswer : 855360\\nNote: we have considered that the first digit of a number plate may be 0. \\nIf you think I have made any error in reading your just send #matchQ4 to get format of question in text'"
            ],
            "application/vnd.google.colaboratory.intrinsic+json": {
              "type": "string"
            }
          },
          "metadata": {},
          "execution_count": 10
        }
      ]
    },
    {
      "cell_type": "code",
      "source": [
        "def Q41(textofimage):\n",
        "  \n",
        "  ques = 'Jay bought a new car in New York where a license plate can be created with alphabets A, B, C, D, E, W, X, Y, Z and numbers 0 to 9. He can either select a normal license plate or a VIP license plate. The VIP license plate begins with 1 alphabets followed by 2 numbers with repetition allowed. The normal license plate begins with 1 numbers followed by 2 alphabets without repetition.In how many ways can he select VIP license plate?'\n",
        "  ans = \"Please copy the message as it is and just replace the values according to your question #solveQ4 \"\n",
        "\n",
        "  return ques +'  \\n\\n'+ str(ans)"
      ],
      "metadata": {
        "id": "zkpFehBAEEVt"
      },
      "execution_count": 11,
      "outputs": []
    },
    {
      "cell_type": "code",
      "source": [
        "def Q5(textofimage):\n",
        "  import sympy\n",
        "  val2 = re.findall('(\\d+)[^,.\\d\\n]+?(?=times)',textofimage)\n",
        "  val1 = re.findall(\"by\\s*(-?\\d+(?:\\.\\d+)?)\",textofimage)\n",
        " \n",
        "  try:\n",
        "    val = [val1[0],val2[0]]\n",
        "    n = symbols('n')\n",
        "    lhs= n*(n-1)*int(val[1])\n",
        "    rhs = (n+int(val[0]))*(n+int(val[0])-1)\n",
        "    ans1 = solve(Eq(lhs,rhs))\n",
        "    for i in ans1:\n",
        "      if i>0:\n",
        "        ans=i\n",
        "      else :\n",
        "        ans = \"Calculation Failed!\"\n",
        "\n",
        "    ques = 'Ram has n trophies that he wishes to place in his main cabinet, which has space only for two trophies. If the number of trophies is increased by '+ str(val[0])+ ', then the number of possible ways to arrange the trophies in the main cabinet becomes '+str(val[1])+' times the number of ways to arrange n trophies. How many trophies does Ram have?'\n",
        "  except:\n",
        "    ques = emoji.emojize(\":zipper-mouth_face:\")\n",
        "    ans = \"Sorry! There was some issue while handling your file. Please try again with a different image or send #matchQ5 to get the question in text format. Surely, I would handle that.\"\n",
        "\n",
        "  return ques +'\\n\\nAnswer : '+ str(ans) +'\\nIf you think I have made any error in reading your just send #matchQ5 to get format of question in text'\n",
        "Q5('5) Ram has n trophies that he wishes to place in his main cabinet, which has space only for two trophies. If the number of trophies is increased by 3, then the number of possible ways to arrange the trophies in the main cabinet becomes 5 times the number of ways to arrange n trophies. How many trophies does Ram have?')\n",
        "\n"
      ],
      "metadata": {
        "colab": {
          "base_uri": "https://localhost:8080/",
          "height": 72
        },
        "id": "dNA17-wPjm5Y",
        "outputId": "3d6a6d77-8f27-493a-ffaa-44d5b8f27b18"
      },
      "execution_count": 12,
      "outputs": [
        {
          "output_type": "execute_result",
          "data": {
            "text/plain": [
              "'Ram has n trophies that he wishes to place in his main cabinet, which has space only for two trophies. If the number of trophies is increased by 3, then the number of possible ways to arrange the trophies in the main cabinet becomes 5 times the number of ways to arrange n trophies. How many trophies does Ram have?\\n\\nAnswer : 3\\nIf you think I have made any error in reading your just send #matchQ5 to get format of question in text'"
            ],
            "application/vnd.google.colaboratory.intrinsic+json": {
              "type": "string"
            }
          },
          "metadata": {},
          "execution_count": 12
        }
      ]
    },
    {
      "cell_type": "code",
      "source": [
        "def Q51(textofimage):\n",
        "  \n",
        "  ques = 'Ram has n trophies that he wishes to place in his main cabinet, which has space only for two trophies. If the number of trophies is increased by 3, then the number of possible ways to arrange the trophies in the main cabinet becomes 5 times the number of ways to arrange n trophies. How many trophies does Ram have?'\n",
        "  ans = \"Please copy the message as it is and just replace the values according to your question #solveQ5 \"\n",
        "\n",
        "  return ques +'  \\n\\n'+ str(ans)"
      ],
      "metadata": {
        "id": "mkU-6dxjEeMm"
      },
      "execution_count": 13,
      "outputs": []
    },
    {
      "cell_type": "code",
      "source": [
        "def Q52(textofimage):\n",
        "  import sympy\n",
        "  val = re.findall(\"[2-9]\",textofimage)\n",
        "  try:\n",
        "    # val=[3,5]\n",
        "    n = symbols('n')\n",
        "    lhs= n*(n-1)*int(val[1])\n",
        "    rhs = (n+int(val[0]))*(n+int(val[0])-1)\n",
        "    ans1 = solve(Eq(lhs,rhs))\n",
        "    for i in ans1:\n",
        "      if i>0:\n",
        "        ans=i\n",
        "      else :\n",
        "        ans = \"Calculation Failed!\"\n",
        "\n",
        "    ques = 'Ram has n trophies that he wishes to place in his main cabinet, which has space only for two trophies. If the number of trophies is increased by '+ str(val[0])+ ', then the number of possible ways to arrange the trophies in the main cabinet becomes '+str(val[1])+' times the number of ways to arrange n trophies. How many trophies does Ram have?'\n",
        "  except:\n",
        "    ques = emoji.emojize(\":zipper-mouth_face:\")\n",
        "    ans = \"Sorry! There was some issue while handling your file. Please try again\"\n",
        "\n",
        "  return ques +'\\n\\nAnswer : '+ str(ans)\n",
        "Q52('Ram has n trophies that he wishes to place in his main cabinet, which has space only for two trophies. If the number of trophies is increased by 3, then the number of possible ways to arrange the trophies in the main cabinet becomes 5 times the number of ways to arrange n trophies. How many trophies does Ram have?')\n",
        "\n"
      ],
      "metadata": {
        "colab": {
          "base_uri": "https://localhost:8080/",
          "height": 72
        },
        "id": "MI4EeT6OHunk",
        "outputId": "9159d93e-8fa6-45c2-acfc-92df438843da"
      },
      "execution_count": 14,
      "outputs": [
        {
          "output_type": "execute_result",
          "data": {
            "text/plain": [
              "'Ram has n trophies that he wishes to place in his main cabinet, which has space only for two trophies. If the number of trophies is increased by 3, then the number of possible ways to arrange the trophies in the main cabinet becomes 5 times the number of ways to arrange n trophies. How many trophies does Ram have?\\n\\nAnswer : 3'"
            ],
            "application/vnd.google.colaboratory.intrinsic+json": {
              "type": "string"
            }
          },
          "metadata": {},
          "execution_count": 14
        }
      ]
    },
    {
      "cell_type": "code",
      "source": [
        "def Q6(textofimage):\n",
        "  val1 = re.findall('(\\d+)[^,.\\d\\n]+?(?=students)',textofimage)\n",
        "  val2 = re.findall(\"first\\s*(-?\\d+(?:\\.\\d+)?)\",textofimage)\n",
        "  \n",
        "  try:\n",
        "    val = [val1[0],val2[0]]\n",
        "    ques = 'There are '+str(val[0])+' students in a class. The class teacher announced that the first  '+str(val[1])+' students who completes a given project within two days will be awarded. What are the possible number of ways the students will be awarded?'\n",
        "    ans = (factorial(int(val[0])))/(factorial(int(val[1]))*factorial(int(val[0])-int(val[1])))\n",
        "    text = str(val[0])+'!/('+str((int(val[0])-int(val[1])))+'! x '+str(val[1])+'!)'\n",
        "  except:\n",
        "    ques = emoji.emojize(\":zipper-mouth_face:\")\n",
        "    ans = \"Sorry! There was some issue while handling your file. Please try again with a different image or send #matchQ6 to get the question in text format. Surely, I would handle that.\"\n",
        "    text = ''\n",
        "  return ques +'\\n\\nAnswer : '+ text + '='+ str(ans)+'\\nIf you think I have made any error in reading your just send #matchQ6 to get format of question in text'\n",
        "Q6('There are 40 students in a class. The class teacher announced that the first  5 students who completes a given project within two days will be awarded. What are the possible number of ways the students will be awarded?')"
      ],
      "metadata": {
        "id": "vJUSu7Iejokc",
        "colab": {
          "base_uri": "https://localhost:8080/",
          "height": 72
        },
        "outputId": "d1c65ed0-1793-4bc7-a53c-8f8348e7dd36"
      },
      "execution_count": 15,
      "outputs": [
        {
          "output_type": "execute_result",
          "data": {
            "text/plain": [
              "'There are 40 students in a class. The class teacher announced that the first  5 students who completes a given project within two days will be awarded. What are the possible number of ways the students will be awarded?\\n\\nAnswer : 40!/(35! x 5!)=658008\\nIf you think I have made any error in reading your just send #matchQ6 to get format of question in text'"
            ],
            "application/vnd.google.colaboratory.intrinsic+json": {
              "type": "string"
            }
          },
          "metadata": {},
          "execution_count": 15
        }
      ]
    },
    {
      "cell_type": "code",
      "source": [
        "def Q61(textofimage):\n",
        "  \n",
        "  ques = 'There are 30 students in a class. The class teacher announced that the first  4 students who completes a given project within two days will be awarded. What are the possible number of ways the students will be awarded?'\n",
        "  ans = \"Please copy the message as it is and replace the values according to your question and send #solveQ6 \"\n",
        "\n",
        "  return ques +'  \\n\\n'+ str(ans)"
      ],
      "metadata": {
        "id": "UCnvNr_sE6vY"
      },
      "execution_count": 16,
      "outputs": []
    },
    {
      "cell_type": "code",
      "source": [
        "def Q7(textofimage):\n",
        "  val = re.findall('(\\d+)[^,.\\d\\n]+?(?=students)',textofimage)\n",
        "  try:\n",
        "    ques = val[0]+' students watched a patriotic movie. An analyst wishes to ask each student whether they liked the movie or not. Each student can either answer the question or refuse to respond. In how many ways, can the analyst get responses from the students?'\n",
        "    ans = pow(3,int(val[0]))\n",
        "  except:\n",
        "    ques = emoji.emojize(\":zipper-mouth_face:\")\n",
        "    ans = \"Sorry! There was some issue while handling your file. Please try again with a different image or send #matchQ7 to get the question in text format. Surely, I would handle that.\"\n",
        "\n",
        "  return ques +' Answer : '+ str(ans)+'\\nIf you think I have made any error in reading your just send #matchQ7 to get format of question in text'\n"
      ],
      "metadata": {
        "id": "2yiQCPg-jqNr"
      },
      "execution_count": 17,
      "outputs": []
    },
    {
      "cell_type": "code",
      "source": [
        "def Q71(textofimage):\n",
        "  \n",
        "  ques = '7 students watched a patriotic movie. An analyst wishes to ask each student whether they liked the movie or not. Each student can either answer the question or refuse to respond. In how many ways, can the analyst get responses from the students?'\n",
        "  ans = \"Please copy the message as it is and replace the values according to your question and send #solveQ7 \"\n",
        "\n",
        "  return ques +'  \\n\\n'+ str(ans)"
      ],
      "metadata": {
        "id": "uMW3RQrKFXmm"
      },
      "execution_count": 18,
      "outputs": []
    },
    {
      "cell_type": "code",
      "source": [
        "def Q8(textofimage):\n",
        "  val = re.findall('(\\d+)[^,.\\d\\n]+?(?=non)',textofimage)\n",
        "  try:\n",
        "    ques = 'If the value of sum of first '+str(val[0])+' non-zero natural numbers is equal to {} , then find the value of 1/{}?'\n",
        "    ans = \"Sorry! I could'nt extract data from the image. You may retry or send #matchQ8 to get the question in text format. Surely, I would handle that.\"\n",
        "  except:\n",
        "    ques = emoji.emojize(\":zipper-mouth_face:\")\n",
        "    ans = \"Sorry! There was some issue while handling your file. Please try again with a different image \"\n",
        "\n",
        "  return ques +'\\n\\nAnswer : \\n\\n'+ str(ans)"
      ],
      "metadata": {
        "id": "5uVOiFsXjrjN"
      },
      "execution_count": 19,
      "outputs": []
    },
    {
      "cell_type": "code",
      "source": [
        "def Q82(textofimage):\n",
        "  \n",
        "  ques = 'If the value of sum of first 5 non-zero natural numbers is equal to factorial(6)x/4 then find the value of 1/x?'\n",
        "  ans = \"Please copy the message as it is and just replace the values according to your question #solveQ8 \"\n",
        "\n",
        "  return ques +'  \\n\\n'+ str(ans)"
      ],
      "metadata": {
        "id": "-ILi6ViE5Szb"
      },
      "execution_count": 20,
      "outputs": []
    },
    {
      "cell_type": "code",
      "source": [
        "def Q83(textofimage):\n",
        "  val = re.findall('(\\d+)[^,.\\d\\n]+?(?=non|x|then)',textofimage)\n",
        "  try:\n",
        "    ques = 'If the value of sum of first '+str(val[0])+' non-zero natural numbers is equal to '+str(val[1])+'!x/'+str(val[2])+' , then find the value of 1/x?'\n",
        "    ans = (factorial(int(val[1]))*2)/(int(val[2])*int(val[0])*(int(val[0])+1))\n",
        "  except:\n",
        "    ques = emoji.emojize(\":zipper-mouth_face:\")\n",
        "    ans = \"Sorry! There was some issue while handling your file. Please try again with a different image\"\n",
        "  return ques +' \\n\\nAnswer: '+ str(ans)"
      ],
      "metadata": {
        "id": "oiYggeGW7mBm"
      },
      "execution_count": 21,
      "outputs": []
    },
    {
      "cell_type": "code",
      "source": [
        "def Q9(textofimage):\n",
        "  val = re.findall('(\\d+)[^,.\\d\\n]+?(?=digit)',textofimage)\n",
        "  try:\n",
        "    ques = 'Adam wrote down a '+str(val[0])+'-digit university roll number on a piece of paper. On his way home from office, it rained heavily and the paper got wet. Later, he saw that the first '+str(val[1])+' digits of the roll number had disappeared. In how many ways can Adam complete this university roll number if repetition of digits is allowed?'\n",
        "    ans = pow(10,int(val[1]))\n",
        "  except:\n",
        "    ques = emoji.emojize(\":zipper-mouth_face:\")\n",
        "    ans = \"Sorry! There was some issue while handling your file. Please try again with a different image or send #matchQ9 to get the question in text format. Surely, I would handle that.\"\n",
        "\n",
        "  return ques +' Answer : '+ str(ans)+'\\nIf you think I have made any error in reading your just send #matchQ9 to get format of question in text'\n"
      ],
      "metadata": {
        "id": "gk3ljSBBjs0X"
      },
      "execution_count": 22,
      "outputs": []
    },
    {
      "cell_type": "code",
      "source": [
        "def Q91(textofimage):\n",
        "  \n",
        "  ques = 'Adam wrote down a 12-digit university roll number on a piece of paper. On his way home from office, it rained heavily and the paper got wet. Later, he saw that the first 4 digits of the roll number had disappeared. In how many ways can Adam complete this university roll number if repetition of digits is allowed?'\n",
        "  ans = \"Please copy the message as it is and just replace the values according to your question #solveQ9 \"\n",
        "\n",
        "  return ques +'  \\n\\n'+ str(ans)"
      ],
      "metadata": {
        "id": "h23GYSqcF0s_"
      },
      "execution_count": 23,
      "outputs": []
    },
    {
      "cell_type": "code",
      "source": [
        "def Q10(textofimage):\n",
        "  try:\n",
        "    ques = 'Let x = factorial({})/{}xfactorial({}).Which of the following expressions is/are equal to x?'\n",
        "    ans =\"Sorry! I could'nt extract data from the image. You may retry or send #matchQ10 to get the question in text format. Surely, I would handle that.\"\n",
        "\n",
        "  except:\n",
        "    ques = emoji.emojize(\":zipper-mouth_face:\")\n",
        "    ans = \"Sorry! There was some issue while handling your file. Please try again with a different image\"\n",
        "\n",
        "  return ques +'\\n\\nAnswer : '+ str(ans)+'\\nIf you think I have made any error in reading your just send #matchQ<your question number> to get format of question in text'\n"
      ],
      "metadata": {
        "id": "znNw-_rXjuvG"
      },
      "execution_count": 24,
      "outputs": []
    },
    {
      "cell_type": "code",
      "source": [
        "def Q102(textofimage):\n",
        "  \n",
        "  ques = 'Let x = 5!/4x3!.Which of the following expressions is/are equal to x?'\n",
        "  ans = \"Please copy the message as it is and replace the values according to your question and send #solveQ10 \"\n",
        "\n",
        "  return ques +'  \\n\\n'+ str(ans)"
      ],
      "metadata": {
        "id": "HENBbc-upAks"
      },
      "execution_count": 25,
      "outputs": []
    },
    {
      "cell_type": "code",
      "source": [
        "def Q103(textofimage):\n",
        "  val = re.findall(\"[2-9]\",textofimage)\n",
        "  try:\n",
        "    ques = 'Let x ='+str(val[0])+'!/'+str(val[1])+'x'+str(val[2])+'! .Which of the following expressions is/are equal to x?'\n",
        "    ans = factorial(int(val[0]))/(int(val[1])*factorial(int(val[2])))\n",
        "\n",
        "  except:\n",
        "    ques = emoji.emojize(\":zipper-mouth_face:\")\n",
        "    ans = \"Sorry! There was some issue while handling your file. Please try again with a different image\"\n",
        "\n",
        "  return ques +'\\n\\nAnswer : '+ str(ans)+'\\nIf you think I have made any error in reading your just send #matchQ10 to get format of question in text'"
      ],
      "metadata": {
        "id": "b3pb4gEjpbfb"
      },
      "execution_count": 26,
      "outputs": []
    },
    {
      "cell_type": "code",
      "source": [
        "import requests\n",
        "import pytesseract\n",
        "import urllib.request\n",
        "from PIL import Image\n",
        "import PIL\n",
        "from pathlib import Path\n",
        "from PIL import UnidentifiedImageError\n",
        "import numpy as np\n",
        "base_url = \"https://api.telegram.org/bot5790152486:AAFlWLsa1NLe92uNLHdmGJq2ifyQB19OtQY\"\n",
        "token = '5790152486:AAFlWLsa1NLe92uNLHdmGJq2ifyQB19OtQY'\n",
        "\n",
        "\n",
        "\n",
        "\n",
        "\n",
        "def read_msg(offset):\n",
        "  parameters = {\n",
        "      \"offset\" :offset\n",
        "\n",
        "  }\n",
        "\n",
        "  resp = requests.get(base_url + \"/getUpdates\", data = parameters)\n",
        "  \n",
        "  data = resp.json()\n",
        "\n",
        "  print(data)\n",
        "\n",
        "\n",
        "  for result in data[\"result\"]:\n",
        "\n",
        "    if \"edited_message\" in result.keys():\n",
        "      if \"text\" in result[\"edited_message\"].keys():\n",
        "        if \"#mathmatch\" in result[\"edited_message\"][\"text\"]:\n",
        "          Q1ans = \"Sorry! I cannot reply to edited message. You may try resending it\"\n",
        "          send_msg(result,Q1ans)\n",
        "    if \"message\" in result.keys():\n",
        "      if \"text\" in result[\"message\"].keys():\n",
        "\n",
        "        if '#matchQ8' in result[\"message\"]['text']:\n",
        "          ans = Q82(result[\"message\"]['text'])\n",
        "          send_msg(result, ans)\n",
        "          if data[\"result\"]:\n",
        "            return data[\"result\"][-1][\"update_id\"] + 1\n",
        "        elif '#solveQ8' in result[\"message\"]['text']:\n",
        "          ans = Q83(result[\"message\"]['text'])\n",
        "          send_msg(result, ans)\n",
        "          if data[\"result\"]:\n",
        "            return data[\"result\"][-1][\"update_id\"] + 1\n",
        "        elif '#matchQ10' in result[\"message\"]['text']:\n",
        "          ans = Q102(result[\"message\"]['text'])\n",
        "          send_msg(result, ans)\n",
        "          if data[\"result\"]:\n",
        "            return data[\"result\"][-1][\"update_id\"] + 1\n",
        "        elif '#solveQ10' in result[\"message\"]['text']:\n",
        "          ans = Q103(result[\"message\"]['text'])\n",
        "          send_msg(result, ans)\n",
        "          if data[\"result\"]:\n",
        "            return data[\"result\"][-1][\"update_id\"] + 1\n",
        "        \n",
        "        elif '#matchQ1' in result[\"message\"]['text']:\n",
        "          ans = Q11(result[\"message\"]['text'])\n",
        "          send_msg(result, ans)\n",
        "          if data[\"result\"]:\n",
        "            return data[\"result\"][-1][\"update_id\"] + 1\n",
        "        elif '#solveQ1' in result[\"message\"]['text']:\n",
        "          ans = Q1(result[\"message\"]['text'])\n",
        "          send_msg(result, ans)\n",
        "          if data[\"result\"]:\n",
        "            return data[\"result\"][-1][\"update_id\"] + 1\n",
        "\n",
        "        elif '#matchQ2' in result[\"message\"]['text']:\n",
        "          ans = Q21(result[\"message\"]['text'])\n",
        "          send_msg(result, ans)\n",
        "          if data[\"result\"]:\n",
        "            return data[\"result\"][-1][\"update_id\"] + 1\n",
        "        elif '#solveQ2' in result[\"message\"]['text']:\n",
        "          ans = Q2(result[\"message\"]['text'])\n",
        "          send_msg(result, ans)\n",
        "          if data[\"result\"]:\n",
        "            return data[\"result\"][-1][\"update_id\"] + 1\n",
        "\n",
        "        elif '#matchQ3' in result[\"message\"]['text']:\n",
        "          ans = Q31(result[\"message\"]['text'])\n",
        "          send_msg(result, ans)\n",
        "          if data[\"result\"]:\n",
        "            return data[\"result\"][-1][\"update_id\"] + 1\n",
        "        elif '#solveQ3' in result[\"message\"]['text']:\n",
        "          ans = Q3(result[\"message\"]['text'])\n",
        "          send_msg(result, ans)\n",
        "          if data[\"result\"]:\n",
        "            return data[\"result\"][-1][\"update_id\"] + 1\n",
        "\n",
        "        elif '#matchQ4' in result[\"message\"]['text']:\n",
        "          ans = Q41(result[\"message\"]['text'])\n",
        "          send_msg(result, ans)\n",
        "          if data[\"result\"]:\n",
        "            return data[\"result\"][-1][\"update_id\"] + 1\n",
        "        elif '#solveQ4' in result[\"message\"]['text']:\n",
        "          ans = Q4(result[\"message\"]['text'])\n",
        "          send_msg(result, ans)\n",
        "          if data[\"result\"]:\n",
        "            return data[\"result\"][-1][\"update_id\"] + 1\n",
        "\n",
        "\n",
        "        elif '#matchQ5' in result[\"message\"]['text']:\n",
        "          ans = Q51(result[\"message\"]['text'])\n",
        "          send_msg(result, ans)\n",
        "          if data[\"result\"]:\n",
        "            return data[\"result\"][-1][\"update_id\"] + 1\n",
        "        elif '#solveQ5' in result[\"message\"]['text']:\n",
        "          ans = Q5(result[\"message\"]['text'])\n",
        "          send_msg(result, ans)\n",
        "          if data[\"result\"]:\n",
        "            return data[\"result\"][-1][\"update_id\"] + 1\n",
        "\n",
        "        elif '#matchQ6' in result[\"message\"]['text']:\n",
        "          ans = Q61(result[\"message\"]['text'])\n",
        "          send_msg(result, ans)\n",
        "          if data[\"result\"]:\n",
        "            return data[\"result\"][-1][\"update_id\"] + 1\n",
        "        elif '#solveQ6' in result[\"message\"]['text']:\n",
        "          ans = Q6(result[\"message\"]['text'])\n",
        "          send_msg(result, ans)\n",
        "          if data[\"result\"]:\n",
        "            return data[\"result\"][-1][\"update_id\"] + 1\n",
        "\n",
        "        elif '#matchQ7' in result[\"message\"]['text']:\n",
        "          ans = Q71(result[\"message\"]['text'])\n",
        "          send_msg(result, ans)\n",
        "          if data[\"result\"]:\n",
        "            return data[\"result\"][-1][\"update_id\"] + 1\n",
        "        elif '#solveQ7' in result[\"message\"]['text']:\n",
        "          ans = Q7(result[\"message\"]['text'])\n",
        "          send_msg(result, ans)\n",
        "          if data[\"result\"]:\n",
        "            return data[\"result\"][-1][\"update_id\"] + 1\n",
        "\n",
        "        elif '#matchQ9' in result[\"message\"]['text']:\n",
        "          ans = Q91(result[\"message\"]['text'])\n",
        "          send_msg(result, ans)\n",
        "          if data[\"result\"]:\n",
        "            return data[\"result\"][-1][\"update_id\"] + 1\n",
        "        elif '#solveQ9' in result[\"message\"]['text']:\n",
        "          ans = Q9(result[\"message\"]['text'])\n",
        "          send_msg(result, ans)\n",
        "          if data[\"result\"]:\n",
        "            return data[\"result\"][-1][\"update_id\"] + 1\n",
        "\n",
        "\n",
        "           # \"______________________________________________________________\"\n",
        "\n",
        "        if data[\"result\"]:\n",
        "          return data[\"result\"][-1][\"update_id\"] + 1\n",
        "      elif \"photo\" in result[\"message\"]:\n",
        "        \n",
        "        file_id = result[\"message\"]['photo'][-1]['file_id']\n",
        "        getFile = requests.get(base_url+\"/getFile?file_id=\"+file_id).json()\n",
        "        file_path = getFile[\"result\"]['file_path']\n",
        "        photo_url = 'https://api.telegram.org/file/bot'+token+'/'+file_path\n",
        "        print(photo_url)\n",
        "        urllib.request.urlretrieve(photo_url,\"image.png\")\n",
        "        img = Image.open('image.png')\n",
        "        textofimage = pytesseract.image_to_string(img)\n",
        "      \n",
        "        '---------------------------------------------------------------------------'\n",
        "        #Navigating to questions:\n",
        "\n",
        "        if 'Let' in textofimage:\n",
        "          ans = Q10(textofimage)\n",
        "          send_msg(result, ans)\n",
        "          if data[\"result\"]:\n",
        "            return data[\"result\"][-1][\"update_id\"] + 1\n",
        "\n",
        "        elif '1)' in textofimage or 'Vinod' in textofimage:\n",
        "          ans = Q1(textofimage)\n",
        "          send_msg(result, ans)\n",
        "          if data[\"result\"]:\n",
        "            return data[\"result\"][-1][\"update_id\"] + 1\n",
        "        \n",
        "        elif '2)' in textofimage or 'classmates' in textofimage:\n",
        "          ans = Q2(textofimage)\n",
        "          send_msg(result, ans)\n",
        "          if data[\"result\"]:\n",
        "            return data[\"result\"][-1][\"update_id\"] + 1\n",
        "\n",
        "        elif '3)' in textofimage:\n",
        "          ans = Q3(textofimage)\n",
        "          send_msg(result, ans)\n",
        "          if data[\"result\"]:\n",
        "            return data[\"result\"][-1][\"update_id\"] + 1\n",
        "\n",
        "        elif '4)' in textofimage:\n",
        "          ans = Q4(textofimage)\n",
        "          send_msg(result, ans)\n",
        "          if data[\"result\"]:\n",
        "            return data[\"result\"][-1][\"update_id\"] + 1\n",
        "\n",
        "        elif '5)' in textofimage or 'Ram' in textofimage:\n",
        "          ans = Q5(textofimage)\n",
        "          send_msg(result, ans)\n",
        "          if data[\"result\"]:\n",
        "            return data[\"result\"][-1][\"update_id\"] + 1\n",
        "\n",
        "        elif '6)' in textofimage or 'awarded' in textofimage:\n",
        "          ans = Q6(textofimage)\n",
        "          send_msg(result, ans)\n",
        "          if data[\"result\"]:\n",
        "            return data[\"result\"][-1][\"update_id\"] + 1\n",
        "\n",
        "        elif '7)' in textofimage or 'movie' in textofimage:\n",
        "          ans = Q7(textofimage)\n",
        "          send_msg(result, ans)\n",
        "          if data[\"result\"]:\n",
        "            return data[\"result\"][-1][\"update_id\"] + 1\n",
        "\n",
        "        elif '8)' in textofimage or 'natural' in textofimage:\n",
        "          ans = Q8(textofimage)\n",
        "          send_msg(result, ans)\n",
        "          if data[\"result\"]:\n",
        "            return data[\"result\"][-1][\"update_id\"] + 1\n",
        "\n",
        "        elif '9)' in textofimage or 'Adam' in textofimage:\n",
        "          ans = Q9(textofimage)\n",
        "          send_msg(result, ans)\n",
        "          if data[\"result\"]:\n",
        "            return data[\"result\"][-1][\"update_id\"] + 1\n",
        "\n",
        "        \n",
        "\n",
        "        else:\n",
        "          ans = \"Could'nt Process Your Data! Please try again \"\n",
        "          send_msg(result, ans)\n",
        "          if data[\"result\"]:\n",
        "            return data[\"result\"][-1][\"update_id\"] + 1\n",
        "\n",
        "    if data[\"result\"]:\n",
        "          return data[\"result\"][-1][\"update_id\"] + 1\n",
        "\n",
        "\n",
        "      \n",
        "      \n",
        "\n",
        "def send_msg(message,num):\n",
        "  try:\n",
        "    msg_id = message[\"message\"][\"message_id\"]\n",
        "    name = message[\"message\"][\"from\"][\"first_name\"]\n",
        "    chat_id = message[\"message\"][\"chat\"][\"id\"]\n",
        "\n",
        "    if (message[\"message\"][\"chat\"][\"type\"]==\"private\"):\n",
        "\n",
        "      parameters = {\n",
        "          \"chat_id\" : chat_id,\n",
        "          \"text\" : \"Sorry! But I am not suppose to reply you back in private. Follow this link to join your friends and ask your question : https://t.me/+VmDY-E-Q6Pg5ZTVl \",\n",
        "          \"reply_to_message_id\" : msg_id\n",
        "      }\n",
        "      resp = requests.get(base_url + \"/sendMessage\", data = parameters)\n",
        "    else:\n",
        "      parameters = {\n",
        "          \"chat_id\" : chat_id,\n",
        "          \"text\" :\"Here it is : \\n\"+ num + \"\\n\\nAnswer Matching? Thumbs up! or Not Matching? Thumbs down!\",\n",
        "          \"reply_to_message_id\" : msg_id\n",
        "      }\n",
        "      resp = requests.get(base_url + \"/sendMessage\", data = parameters)\n",
        "  except:\n",
        "    chat_id = message[\"message\"][\"chat\"][\"id\"]\n",
        "    parameters = {\n",
        "        \n",
        "        \"chat_id\" :chat_id,\n",
        "        \"text\" : \"It seems there is some problem! Try Again.\",\n",
        "        \"reply_to_message_id\" : msg_id\n",
        "    }\n",
        "    resp = requests.get(base_url + \"/sendMessage\", data = parameters)\n",
        "    print(resp.text)\n",
        "\n",
        "# def user\n",
        "# resp = requests.get(base_url + \"/User\", data = parameters)\n",
        "\n",
        "offset = 0\n",
        "\n",
        "while True:\n",
        "\n",
        "  offset = read_msg(offset)"
      ],
      "metadata": {
        "colab": {
          "base_uri": "https://localhost:8080/",
          "height": 1000
        },
        "id": "iESI2cvX4GyN",
        "outputId": "9dcd529b-ff11-4b2a-a9bb-5dfc526bc19c"
      },
      "execution_count": 30,
      "outputs": [
        {
          "output_type": "stream",
          "name": "stdout",
          "text": [
            "{'ok': True, 'result': []}\n",
            "{'ok': True, 'result': []}\n",
            "{'ok': True, 'result': []}\n",
            "{'ok': True, 'result': []}\n",
            "{'ok': True, 'result': []}\n",
            "{'ok': True, 'result': []}\n",
            "{'ok': True, 'result': []}\n",
            "{'ok': True, 'result': []}\n",
            "{'ok': True, 'result': []}\n",
            "{'ok': True, 'result': []}\n",
            "{'ok': True, 'result': []}\n",
            "{'ok': True, 'result': []}\n",
            "{'ok': True, 'result': []}\n",
            "{'ok': True, 'result': []}\n",
            "{'ok': True, 'result': []}\n",
            "{'ok': True, 'result': []}\n",
            "{'ok': True, 'result': []}\n",
            "{'ok': True, 'result': []}\n",
            "{'ok': True, 'result': []}\n",
            "{'ok': True, 'result': []}\n",
            "{'ok': True, 'result': []}\n",
            "{'ok': True, 'result': []}\n",
            "{'ok': True, 'result': []}\n",
            "{'ok': True, 'result': []}\n",
            "{'ok': True, 'result': []}\n",
            "{'ok': True, 'result': []}\n",
            "{'ok': True, 'result': []}\n",
            "{'ok': True, 'result': []}\n",
            "{'ok': True, 'result': []}\n",
            "{'ok': True, 'result': []}\n",
            "{'ok': True, 'result': []}\n",
            "{'ok': True, 'result': []}\n",
            "{'ok': True, 'result': []}\n",
            "{'ok': True, 'result': []}\n",
            "{'ok': True, 'result': []}\n",
            "{'ok': True, 'result': []}\n",
            "{'ok': True, 'result': []}\n",
            "{'ok': True, 'result': []}\n",
            "{'ok': True, 'result': []}\n",
            "{'ok': True, 'result': []}\n",
            "{'ok': True, 'result': []}\n",
            "{'ok': True, 'result': []}\n",
            "{'ok': True, 'result': []}\n",
            "{'ok': True, 'result': []}\n",
            "{'ok': True, 'result': []}\n",
            "{'ok': True, 'result': []}\n",
            "{'ok': True, 'result': []}\n",
            "{'ok': True, 'result': []}\n",
            "{'ok': True, 'result': []}\n",
            "{'ok': True, 'result': [{'update_id': 182987667, 'message': {'message_id': 76, 'from': {'id': 1422299869, 'is_bot': False, 'first_name': 'Avinash', 'last_name': 'Shrivastava', 'username': 'avishrivastava', 'language_code': 'en'}, 'chat': {'id': 1422299869, 'first_name': 'Avinash', 'last_name': 'Shrivastava', 'username': 'avishrivastava', 'type': 'private'}, 'date': 1680627244, 'forward_sender_name': 'Raman Kumar', 'forward_date': 1665591913, 'photo': [{'file_id': 'AgACAgUAAxkBAANMZCxWLNE7L6M46K2t8h8g14UQ6LkAAtezMRsf8TBWm9rBXXzIh7cBAAMCAANzAAMvBA', 'file_unique_id': 'AQAD17MxGx_xMFZ4', 'file_size': 600, 'width': 90, 'height': 19}, {'file_id': 'AgACAgUAAxkBAANMZCxWLNE7L6M46K2t8h8g14UQ6LkAAtezMRsf8TBWm9rBXXzIh7cBAAMCAANtAAMvBA', 'file_unique_id': 'AQAD17MxGx_xMFZy', 'file_size': 7268, 'width': 320, 'height': 69}, {'file_id': 'AgACAgUAAxkBAANMZCxWLNE7L6M46K2t8h8g14UQ6LkAAtezMRsf8TBWm9rBXXzIh7cBAAMCAAN4AAMvBA', 'file_unique_id': 'AQAD17MxGx_xMFZ9', 'file_size': 15550, 'width': 720, 'height': 155}]}}]}\n",
            "https://api.telegram.org/file/bot5790152486:AAFlWLsa1NLe92uNLHdmGJq2ifyQB19OtQY/photos/file_522.jpg\n",
            "{'ok': True, 'result': []}\n",
            "{'ok': True, 'result': []}\n",
            "{'ok': True, 'result': []}\n",
            "{'ok': True, 'result': []}\n",
            "{'ok': True, 'result': [{'update_id': 182987668, 'message': {'message_id': 6211, 'from': {'id': 1422299869, 'is_bot': False, 'first_name': 'Avinash', 'last_name': 'Shrivastava', 'username': 'avishrivastava', 'language_code': 'en'}, 'chat': {'id': -1001636347521, 'title': 'Challenge Answer', 'type': 'supergroup'}, 'date': 1680627254, 'forward_sender_name': 'Raman Kumar', 'forward_date': 1665591913, 'photo': [{'file_id': 'AgACAgUAAx0CYYiugQACGENkLFY2Pkinq68Z88NU82DxbrNwEgAC17MxGx_xMFab2sFdfMiHtwEAAwIAA3MAAy8E', 'file_unique_id': 'AQAD17MxGx_xMFZ4', 'file_size': 600, 'width': 90, 'height': 19}, {'file_id': 'AgACAgUAAx0CYYiugQACGENkLFY2Pkinq68Z88NU82DxbrNwEgAC17MxGx_xMFab2sFdfMiHtwEAAwIAA20AAy8E', 'file_unique_id': 'AQAD17MxGx_xMFZy', 'file_size': 7268, 'width': 320, 'height': 69}, {'file_id': 'AgACAgUAAx0CYYiugQACGENkLFY2Pkinq68Z88NU82DxbrNwEgAC17MxGx_xMFab2sFdfMiHtwEAAwIAA3gAAy8E', 'file_unique_id': 'AQAD17MxGx_xMFZ9', 'file_size': 15550, 'width': 720, 'height': 155}]}}]}\n",
            "https://api.telegram.org/file/bot5790152486:AAFlWLsa1NLe92uNLHdmGJq2ifyQB19OtQY/photos/file_522.jpg\n",
            "{'ok': True, 'result': []}\n",
            "{'ok': True, 'result': []}\n",
            "{'ok': True, 'result': []}\n",
            "{'ok': True, 'result': []}\n",
            "{'ok': True, 'result': []}\n",
            "{'ok': True, 'result': []}\n",
            "{'ok': True, 'result': []}\n",
            "{'ok': True, 'result': []}\n",
            "{'ok': True, 'result': []}\n",
            "{'ok': True, 'result': []}\n"
          ]
        },
        {
          "output_type": "error",
          "ename": "KeyboardInterrupt",
          "evalue": "ignored",
          "traceback": [
            "\u001b[0;31m---------------------------------------------------------------------------\u001b[0m",
            "\u001b[0;31mTypeError\u001b[0m                                 Traceback (most recent call last)",
            "\u001b[0;32m/usr/local/lib/python3.9/dist-packages/requests/adapters.py\u001b[0m in \u001b[0;36msend\u001b[0;34m(self, request, stream, timeout, verify, cert, proxies)\u001b[0m\n\u001b[1;32m    481\u001b[0m                         \u001b[0;31m# For Python 2.7, use buffering of HTTP responses\u001b[0m\u001b[0;34m\u001b[0m\u001b[0;34m\u001b[0m\u001b[0m\n\u001b[0;32m--> 482\u001b[0;31m                         \u001b[0mr\u001b[0m \u001b[0;34m=\u001b[0m \u001b[0mlow_conn\u001b[0m\u001b[0;34m.\u001b[0m\u001b[0mgetresponse\u001b[0m\u001b[0;34m(\u001b[0m\u001b[0mbuffering\u001b[0m\u001b[0;34m=\u001b[0m\u001b[0;32mTrue\u001b[0m\u001b[0;34m)\u001b[0m\u001b[0;34m\u001b[0m\u001b[0;34m\u001b[0m\u001b[0m\n\u001b[0m\u001b[1;32m    483\u001b[0m                     \u001b[0;32mexcept\u001b[0m \u001b[0mTypeError\u001b[0m\u001b[0;34m:\u001b[0m\u001b[0;34m\u001b[0m\u001b[0;34m\u001b[0m\u001b[0m\n",
            "\u001b[0;31mTypeError\u001b[0m: getresponse() got an unexpected keyword argument 'buffering'",
            "\nDuring handling of the above exception, another exception occurred:\n",
            "\u001b[0;31mKeyboardInterrupt\u001b[0m                         Traceback (most recent call last)",
            "\u001b[0;32m<ipython-input-30-567f636d0bf0>\u001b[0m in \u001b[0;36m<cell line: 282>\u001b[0;34m()\u001b[0m\n\u001b[1;32m    280\u001b[0m \u001b[0;32mwhile\u001b[0m \u001b[0;32mTrue\u001b[0m\u001b[0;34m:\u001b[0m\u001b[0;34m\u001b[0m\u001b[0;34m\u001b[0m\u001b[0m\n\u001b[1;32m    281\u001b[0m \u001b[0;34m\u001b[0m\u001b[0m\n\u001b[0;32m--> 282\u001b[0;31m   \u001b[0moffset\u001b[0m \u001b[0;34m=\u001b[0m \u001b[0mread_msg\u001b[0m\u001b[0;34m(\u001b[0m\u001b[0moffset\u001b[0m\u001b[0;34m)\u001b[0m\u001b[0;34m\u001b[0m\u001b[0;34m\u001b[0m\u001b[0m\n\u001b[0m",
            "\u001b[0;32m<ipython-input-30-567f636d0bf0>\u001b[0m in \u001b[0;36mread_msg\u001b[0;34m(offset)\u001b[0m\n\u001b[1;32m     20\u001b[0m   }\n\u001b[1;32m     21\u001b[0m \u001b[0;34m\u001b[0m\u001b[0m\n\u001b[0;32m---> 22\u001b[0;31m   \u001b[0mresp\u001b[0m \u001b[0;34m=\u001b[0m \u001b[0mrequests\u001b[0m\u001b[0;34m.\u001b[0m\u001b[0mget\u001b[0m\u001b[0;34m(\u001b[0m\u001b[0mbase_url\u001b[0m \u001b[0;34m+\u001b[0m \u001b[0;34m\"/getUpdates\"\u001b[0m\u001b[0;34m,\u001b[0m \u001b[0mdata\u001b[0m \u001b[0;34m=\u001b[0m \u001b[0mparameters\u001b[0m\u001b[0;34m)\u001b[0m\u001b[0;34m\u001b[0m\u001b[0;34m\u001b[0m\u001b[0m\n\u001b[0m\u001b[1;32m     23\u001b[0m \u001b[0;34m\u001b[0m\u001b[0m\n\u001b[1;32m     24\u001b[0m   \u001b[0mdata\u001b[0m \u001b[0;34m=\u001b[0m \u001b[0mresp\u001b[0m\u001b[0;34m.\u001b[0m\u001b[0mjson\u001b[0m\u001b[0;34m(\u001b[0m\u001b[0;34m)\u001b[0m\u001b[0;34m\u001b[0m\u001b[0;34m\u001b[0m\u001b[0m\n",
            "\u001b[0;32m/usr/local/lib/python3.9/dist-packages/requests/api.py\u001b[0m in \u001b[0;36mget\u001b[0;34m(url, params, **kwargs)\u001b[0m\n\u001b[1;32m     73\u001b[0m     \"\"\"\n\u001b[1;32m     74\u001b[0m \u001b[0;34m\u001b[0m\u001b[0m\n\u001b[0;32m---> 75\u001b[0;31m     \u001b[0;32mreturn\u001b[0m \u001b[0mrequest\u001b[0m\u001b[0;34m(\u001b[0m\u001b[0;34m'get'\u001b[0m\u001b[0;34m,\u001b[0m \u001b[0murl\u001b[0m\u001b[0;34m,\u001b[0m \u001b[0mparams\u001b[0m\u001b[0;34m=\u001b[0m\u001b[0mparams\u001b[0m\u001b[0;34m,\u001b[0m \u001b[0;34m**\u001b[0m\u001b[0mkwargs\u001b[0m\u001b[0;34m)\u001b[0m\u001b[0;34m\u001b[0m\u001b[0;34m\u001b[0m\u001b[0m\n\u001b[0m\u001b[1;32m     76\u001b[0m \u001b[0;34m\u001b[0m\u001b[0m\n\u001b[1;32m     77\u001b[0m \u001b[0;34m\u001b[0m\u001b[0m\n",
            "\u001b[0;32m/usr/local/lib/python3.9/dist-packages/requests/api.py\u001b[0m in \u001b[0;36mrequest\u001b[0;34m(method, url, **kwargs)\u001b[0m\n\u001b[1;32m     59\u001b[0m     \u001b[0;31m# cases, and look like a memory leak in others.\u001b[0m\u001b[0;34m\u001b[0m\u001b[0;34m\u001b[0m\u001b[0m\n\u001b[1;32m     60\u001b[0m     \u001b[0;32mwith\u001b[0m \u001b[0msessions\u001b[0m\u001b[0;34m.\u001b[0m\u001b[0mSession\u001b[0m\u001b[0;34m(\u001b[0m\u001b[0;34m)\u001b[0m \u001b[0;32mas\u001b[0m \u001b[0msession\u001b[0m\u001b[0;34m:\u001b[0m\u001b[0;34m\u001b[0m\u001b[0;34m\u001b[0m\u001b[0m\n\u001b[0;32m---> 61\u001b[0;31m         \u001b[0;32mreturn\u001b[0m \u001b[0msession\u001b[0m\u001b[0;34m.\u001b[0m\u001b[0mrequest\u001b[0m\u001b[0;34m(\u001b[0m\u001b[0mmethod\u001b[0m\u001b[0;34m=\u001b[0m\u001b[0mmethod\u001b[0m\u001b[0;34m,\u001b[0m \u001b[0murl\u001b[0m\u001b[0;34m=\u001b[0m\u001b[0murl\u001b[0m\u001b[0;34m,\u001b[0m \u001b[0;34m**\u001b[0m\u001b[0mkwargs\u001b[0m\u001b[0;34m)\u001b[0m\u001b[0;34m\u001b[0m\u001b[0;34m\u001b[0m\u001b[0m\n\u001b[0m\u001b[1;32m     62\u001b[0m \u001b[0;34m\u001b[0m\u001b[0m\n\u001b[1;32m     63\u001b[0m \u001b[0;34m\u001b[0m\u001b[0m\n",
            "\u001b[0;32m/usr/local/lib/python3.9/dist-packages/requests/sessions.py\u001b[0m in \u001b[0;36mrequest\u001b[0;34m(self, method, url, params, data, headers, cookies, files, auth, timeout, allow_redirects, proxies, hooks, stream, verify, cert, json)\u001b[0m\n\u001b[1;32m    527\u001b[0m         }\n\u001b[1;32m    528\u001b[0m         \u001b[0msend_kwargs\u001b[0m\u001b[0;34m.\u001b[0m\u001b[0mupdate\u001b[0m\u001b[0;34m(\u001b[0m\u001b[0msettings\u001b[0m\u001b[0;34m)\u001b[0m\u001b[0;34m\u001b[0m\u001b[0;34m\u001b[0m\u001b[0m\n\u001b[0;32m--> 529\u001b[0;31m         \u001b[0mresp\u001b[0m \u001b[0;34m=\u001b[0m \u001b[0mself\u001b[0m\u001b[0;34m.\u001b[0m\u001b[0msend\u001b[0m\u001b[0;34m(\u001b[0m\u001b[0mprep\u001b[0m\u001b[0;34m,\u001b[0m \u001b[0;34m**\u001b[0m\u001b[0msend_kwargs\u001b[0m\u001b[0;34m)\u001b[0m\u001b[0;34m\u001b[0m\u001b[0;34m\u001b[0m\u001b[0m\n\u001b[0m\u001b[1;32m    530\u001b[0m \u001b[0;34m\u001b[0m\u001b[0m\n\u001b[1;32m    531\u001b[0m         \u001b[0;32mreturn\u001b[0m \u001b[0mresp\u001b[0m\u001b[0;34m\u001b[0m\u001b[0;34m\u001b[0m\u001b[0m\n",
            "\u001b[0;32m/usr/local/lib/python3.9/dist-packages/requests/sessions.py\u001b[0m in \u001b[0;36msend\u001b[0;34m(self, request, **kwargs)\u001b[0m\n\u001b[1;32m    643\u001b[0m \u001b[0;34m\u001b[0m\u001b[0m\n\u001b[1;32m    644\u001b[0m         \u001b[0;31m# Send the request\u001b[0m\u001b[0;34m\u001b[0m\u001b[0;34m\u001b[0m\u001b[0m\n\u001b[0;32m--> 645\u001b[0;31m         \u001b[0mr\u001b[0m \u001b[0;34m=\u001b[0m \u001b[0madapter\u001b[0m\u001b[0;34m.\u001b[0m\u001b[0msend\u001b[0m\u001b[0;34m(\u001b[0m\u001b[0mrequest\u001b[0m\u001b[0;34m,\u001b[0m \u001b[0;34m**\u001b[0m\u001b[0mkwargs\u001b[0m\u001b[0;34m)\u001b[0m\u001b[0;34m\u001b[0m\u001b[0;34m\u001b[0m\u001b[0m\n\u001b[0m\u001b[1;32m    646\u001b[0m \u001b[0;34m\u001b[0m\u001b[0m\n\u001b[1;32m    647\u001b[0m         \u001b[0;31m# Total elapsed time of the request (approximately)\u001b[0m\u001b[0;34m\u001b[0m\u001b[0;34m\u001b[0m\u001b[0m\n",
            "\u001b[0;32m/usr/local/lib/python3.9/dist-packages/requests/adapters.py\u001b[0m in \u001b[0;36msend\u001b[0;34m(self, request, stream, timeout, verify, cert, proxies)\u001b[0m\n\u001b[1;32m    483\u001b[0m                     \u001b[0;32mexcept\u001b[0m \u001b[0mTypeError\u001b[0m\u001b[0;34m:\u001b[0m\u001b[0;34m\u001b[0m\u001b[0;34m\u001b[0m\u001b[0m\n\u001b[1;32m    484\u001b[0m                         \u001b[0;31m# For compatibility with Python 3.3+\u001b[0m\u001b[0;34m\u001b[0m\u001b[0;34m\u001b[0m\u001b[0m\n\u001b[0;32m--> 485\u001b[0;31m                         \u001b[0mr\u001b[0m \u001b[0;34m=\u001b[0m \u001b[0mlow_conn\u001b[0m\u001b[0;34m.\u001b[0m\u001b[0mgetresponse\u001b[0m\u001b[0;34m(\u001b[0m\u001b[0;34m)\u001b[0m\u001b[0;34m\u001b[0m\u001b[0;34m\u001b[0m\u001b[0m\n\u001b[0m\u001b[1;32m    486\u001b[0m \u001b[0;34m\u001b[0m\u001b[0m\n\u001b[1;32m    487\u001b[0m                     resp = HTTPResponse.from_httplib(\n",
            "\u001b[0;32m/usr/lib/python3.9/http/client.py\u001b[0m in \u001b[0;36mgetresponse\u001b[0;34m(self)\u001b[0m\n\u001b[1;32m   1375\u001b[0m         \u001b[0;32mtry\u001b[0m\u001b[0;34m:\u001b[0m\u001b[0;34m\u001b[0m\u001b[0;34m\u001b[0m\u001b[0m\n\u001b[1;32m   1376\u001b[0m             \u001b[0;32mtry\u001b[0m\u001b[0;34m:\u001b[0m\u001b[0;34m\u001b[0m\u001b[0;34m\u001b[0m\u001b[0m\n\u001b[0;32m-> 1377\u001b[0;31m                 \u001b[0mresponse\u001b[0m\u001b[0;34m.\u001b[0m\u001b[0mbegin\u001b[0m\u001b[0;34m(\u001b[0m\u001b[0;34m)\u001b[0m\u001b[0;34m\u001b[0m\u001b[0;34m\u001b[0m\u001b[0m\n\u001b[0m\u001b[1;32m   1378\u001b[0m             \u001b[0;32mexcept\u001b[0m \u001b[0mConnectionError\u001b[0m\u001b[0;34m:\u001b[0m\u001b[0;34m\u001b[0m\u001b[0;34m\u001b[0m\u001b[0m\n\u001b[1;32m   1379\u001b[0m                 \u001b[0mself\u001b[0m\u001b[0;34m.\u001b[0m\u001b[0mclose\u001b[0m\u001b[0;34m(\u001b[0m\u001b[0;34m)\u001b[0m\u001b[0;34m\u001b[0m\u001b[0;34m\u001b[0m\u001b[0m\n",
            "\u001b[0;32m/usr/lib/python3.9/http/client.py\u001b[0m in \u001b[0;36mbegin\u001b[0;34m(self)\u001b[0m\n\u001b[1;32m    318\u001b[0m         \u001b[0;31m# read until we get a non-100 response\u001b[0m\u001b[0;34m\u001b[0m\u001b[0;34m\u001b[0m\u001b[0m\n\u001b[1;32m    319\u001b[0m         \u001b[0;32mwhile\u001b[0m \u001b[0;32mTrue\u001b[0m\u001b[0;34m:\u001b[0m\u001b[0;34m\u001b[0m\u001b[0;34m\u001b[0m\u001b[0m\n\u001b[0;32m--> 320\u001b[0;31m             \u001b[0mversion\u001b[0m\u001b[0;34m,\u001b[0m \u001b[0mstatus\u001b[0m\u001b[0;34m,\u001b[0m \u001b[0mreason\u001b[0m \u001b[0;34m=\u001b[0m \u001b[0mself\u001b[0m\u001b[0;34m.\u001b[0m\u001b[0m_read_status\u001b[0m\u001b[0;34m(\u001b[0m\u001b[0;34m)\u001b[0m\u001b[0;34m\u001b[0m\u001b[0;34m\u001b[0m\u001b[0m\n\u001b[0m\u001b[1;32m    321\u001b[0m             \u001b[0;32mif\u001b[0m \u001b[0mstatus\u001b[0m \u001b[0;34m!=\u001b[0m \u001b[0mCONTINUE\u001b[0m\u001b[0;34m:\u001b[0m\u001b[0;34m\u001b[0m\u001b[0;34m\u001b[0m\u001b[0m\n\u001b[1;32m    322\u001b[0m                 \u001b[0;32mbreak\u001b[0m\u001b[0;34m\u001b[0m\u001b[0;34m\u001b[0m\u001b[0m\n",
            "\u001b[0;32m/usr/lib/python3.9/http/client.py\u001b[0m in \u001b[0;36m_read_status\u001b[0;34m(self)\u001b[0m\n\u001b[1;32m    279\u001b[0m \u001b[0;34m\u001b[0m\u001b[0m\n\u001b[1;32m    280\u001b[0m     \u001b[0;32mdef\u001b[0m \u001b[0m_read_status\u001b[0m\u001b[0;34m(\u001b[0m\u001b[0mself\u001b[0m\u001b[0;34m)\u001b[0m\u001b[0;34m:\u001b[0m\u001b[0;34m\u001b[0m\u001b[0;34m\u001b[0m\u001b[0m\n\u001b[0;32m--> 281\u001b[0;31m         \u001b[0mline\u001b[0m \u001b[0;34m=\u001b[0m \u001b[0mstr\u001b[0m\u001b[0;34m(\u001b[0m\u001b[0mself\u001b[0m\u001b[0;34m.\u001b[0m\u001b[0mfp\u001b[0m\u001b[0;34m.\u001b[0m\u001b[0mreadline\u001b[0m\u001b[0;34m(\u001b[0m\u001b[0m_MAXLINE\u001b[0m \u001b[0;34m+\u001b[0m \u001b[0;36m1\u001b[0m\u001b[0;34m)\u001b[0m\u001b[0;34m,\u001b[0m \u001b[0;34m\"iso-8859-1\"\u001b[0m\u001b[0;34m)\u001b[0m\u001b[0;34m\u001b[0m\u001b[0;34m\u001b[0m\u001b[0m\n\u001b[0m\u001b[1;32m    282\u001b[0m         \u001b[0;32mif\u001b[0m \u001b[0mlen\u001b[0m\u001b[0;34m(\u001b[0m\u001b[0mline\u001b[0m\u001b[0;34m)\u001b[0m \u001b[0;34m>\u001b[0m \u001b[0m_MAXLINE\u001b[0m\u001b[0;34m:\u001b[0m\u001b[0;34m\u001b[0m\u001b[0;34m\u001b[0m\u001b[0m\n\u001b[1;32m    283\u001b[0m             \u001b[0;32mraise\u001b[0m \u001b[0mLineTooLong\u001b[0m\u001b[0;34m(\u001b[0m\u001b[0;34m\"status line\"\u001b[0m\u001b[0;34m)\u001b[0m\u001b[0;34m\u001b[0m\u001b[0;34m\u001b[0m\u001b[0m\n",
            "\u001b[0;32m/usr/lib/python3.9/socket.py\u001b[0m in \u001b[0;36mreadinto\u001b[0;34m(self, b)\u001b[0m\n\u001b[1;32m    702\u001b[0m         \u001b[0;32mwhile\u001b[0m \u001b[0;32mTrue\u001b[0m\u001b[0;34m:\u001b[0m\u001b[0;34m\u001b[0m\u001b[0;34m\u001b[0m\u001b[0m\n\u001b[1;32m    703\u001b[0m             \u001b[0;32mtry\u001b[0m\u001b[0;34m:\u001b[0m\u001b[0;34m\u001b[0m\u001b[0;34m\u001b[0m\u001b[0m\n\u001b[0;32m--> 704\u001b[0;31m                 \u001b[0;32mreturn\u001b[0m \u001b[0mself\u001b[0m\u001b[0;34m.\u001b[0m\u001b[0m_sock\u001b[0m\u001b[0;34m.\u001b[0m\u001b[0mrecv_into\u001b[0m\u001b[0;34m(\u001b[0m\u001b[0mb\u001b[0m\u001b[0;34m)\u001b[0m\u001b[0;34m\u001b[0m\u001b[0;34m\u001b[0m\u001b[0m\n\u001b[0m\u001b[1;32m    705\u001b[0m             \u001b[0;32mexcept\u001b[0m \u001b[0mtimeout\u001b[0m\u001b[0;34m:\u001b[0m\u001b[0;34m\u001b[0m\u001b[0;34m\u001b[0m\u001b[0m\n\u001b[1;32m    706\u001b[0m                 \u001b[0mself\u001b[0m\u001b[0;34m.\u001b[0m\u001b[0m_timeout_occurred\u001b[0m \u001b[0;34m=\u001b[0m \u001b[0;32mTrue\u001b[0m\u001b[0;34m\u001b[0m\u001b[0;34m\u001b[0m\u001b[0m\n",
            "\u001b[0;32m/usr/lib/python3.9/ssl.py\u001b[0m in \u001b[0;36mrecv_into\u001b[0;34m(self, buffer, nbytes, flags)\u001b[0m\n\u001b[1;32m   1240\u001b[0m                   \u001b[0;34m\"non-zero flags not allowed in calls to recv_into() on %s\"\u001b[0m \u001b[0;34m%\u001b[0m\u001b[0;34m\u001b[0m\u001b[0;34m\u001b[0m\u001b[0m\n\u001b[1;32m   1241\u001b[0m                   self.__class__)\n\u001b[0;32m-> 1242\u001b[0;31m             \u001b[0;32mreturn\u001b[0m \u001b[0mself\u001b[0m\u001b[0;34m.\u001b[0m\u001b[0mread\u001b[0m\u001b[0;34m(\u001b[0m\u001b[0mnbytes\u001b[0m\u001b[0;34m,\u001b[0m \u001b[0mbuffer\u001b[0m\u001b[0;34m)\u001b[0m\u001b[0;34m\u001b[0m\u001b[0;34m\u001b[0m\u001b[0m\n\u001b[0m\u001b[1;32m   1243\u001b[0m         \u001b[0;32melse\u001b[0m\u001b[0;34m:\u001b[0m\u001b[0;34m\u001b[0m\u001b[0;34m\u001b[0m\u001b[0m\n\u001b[1;32m   1244\u001b[0m             \u001b[0;32mreturn\u001b[0m \u001b[0msuper\u001b[0m\u001b[0;34m(\u001b[0m\u001b[0;34m)\u001b[0m\u001b[0;34m.\u001b[0m\u001b[0mrecv_into\u001b[0m\u001b[0;34m(\u001b[0m\u001b[0mbuffer\u001b[0m\u001b[0;34m,\u001b[0m \u001b[0mnbytes\u001b[0m\u001b[0;34m,\u001b[0m \u001b[0mflags\u001b[0m\u001b[0;34m)\u001b[0m\u001b[0;34m\u001b[0m\u001b[0;34m\u001b[0m\u001b[0m\n",
            "\u001b[0;32m/usr/lib/python3.9/ssl.py\u001b[0m in \u001b[0;36mread\u001b[0;34m(self, len, buffer)\u001b[0m\n\u001b[1;32m   1098\u001b[0m         \u001b[0;32mtry\u001b[0m\u001b[0;34m:\u001b[0m\u001b[0;34m\u001b[0m\u001b[0;34m\u001b[0m\u001b[0m\n\u001b[1;32m   1099\u001b[0m             \u001b[0;32mif\u001b[0m \u001b[0mbuffer\u001b[0m \u001b[0;32mis\u001b[0m \u001b[0;32mnot\u001b[0m \u001b[0;32mNone\u001b[0m\u001b[0;34m:\u001b[0m\u001b[0;34m\u001b[0m\u001b[0;34m\u001b[0m\u001b[0m\n\u001b[0;32m-> 1100\u001b[0;31m                 \u001b[0;32mreturn\u001b[0m \u001b[0mself\u001b[0m\u001b[0;34m.\u001b[0m\u001b[0m_sslobj\u001b[0m\u001b[0;34m.\u001b[0m\u001b[0mread\u001b[0m\u001b[0;34m(\u001b[0m\u001b[0mlen\u001b[0m\u001b[0;34m,\u001b[0m \u001b[0mbuffer\u001b[0m\u001b[0;34m)\u001b[0m\u001b[0;34m\u001b[0m\u001b[0;34m\u001b[0m\u001b[0m\n\u001b[0m\u001b[1;32m   1101\u001b[0m             \u001b[0;32melse\u001b[0m\u001b[0;34m:\u001b[0m\u001b[0;34m\u001b[0m\u001b[0;34m\u001b[0m\u001b[0m\n\u001b[1;32m   1102\u001b[0m                 \u001b[0;32mreturn\u001b[0m \u001b[0mself\u001b[0m\u001b[0;34m.\u001b[0m\u001b[0m_sslobj\u001b[0m\u001b[0;34m.\u001b[0m\u001b[0mread\u001b[0m\u001b[0;34m(\u001b[0m\u001b[0mlen\u001b[0m\u001b[0;34m)\u001b[0m\u001b[0;34m\u001b[0m\u001b[0;34m\u001b[0m\u001b[0m\n",
            "\u001b[0;31mKeyboardInterrupt\u001b[0m: "
          ]
        }
      ]
    },
    {
      "cell_type": "code",
      "source": [
        "ques = 'Let x = factorial(5)/4 x 3!.Which of the following expressions is/are equal to x?'\n",
        "re.findall(\"[2-9]\",ques)"
      ],
      "metadata": {
        "id": "xIB8zw5rJ0Cj",
        "colab": {
          "base_uri": "https://localhost:8080/"
        },
        "outputId": "a7cb7967-f5ad-4222-c783-f189279d4060"
      },
      "execution_count": null,
      "outputs": [
        {
          "output_type": "execute_result",
          "data": {
            "text/plain": [
              "['5', '4', '3']"
            ]
          },
          "metadata": {},
          "execution_count": 67
        }
      ]
    }
  ]
}